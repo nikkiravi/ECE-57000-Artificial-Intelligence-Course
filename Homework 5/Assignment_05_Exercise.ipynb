{
 "cells": [
  {
   "cell_type": "markdown",
   "metadata": {
    "id": "zmwWs4S9cRIn"
   },
   "source": [
    "# ECE 57000 Assignment 5 Exercise\n",
    "\n",
    "Your Name: Nikita Ravi"
   ]
  },
  {
   "cell_type": "markdown",
   "metadata": {
    "id": "WfirXJR3qvB0"
   },
   "source": [
    "For this assignment, you will implement and explore various density estimation methods."
   ]
  },
  {
   "cell_type": "markdown",
   "metadata": {
    "id": "Vmlsa88cqmib",
    "tags": []
   },
   "source": [
    "## Exercise 1: Density estimation in 1D\n",
    "In this exercise, you will write code to estimate 1D densities.\n",
    "Specifically, you will write code to estimate a Gaussian density, a histogram density, and a kernel density."
   ]
  },
  {
   "cell_type": "markdown",
   "metadata": {},
   "source": [
    "### Task 1.1: Gaussian density\n",
    "For this first one you will estimate a Gaussian density via MLE.\n",
    "As discussed in class, this simplifies to estimating the mean and standard devaition of the data and using these empirical estimates for the Gaussian distribution.\n",
    "The Gaussian PDF can be evaluated using the function [`scipy.stats.norm.pdf`](https://docs.scipy.org/doc/scipy/reference/generated/scipy.stats.norm.html)."
   ]
  },
  {
   "cell_type": "code",
   "execution_count": 1,
   "metadata": {},
   "outputs": [],
   "source": [
    "import warnings\n",
    "warnings.filterwarnings(\"ignore\")"
   ]
  },
  {
   "cell_type": "code",
   "execution_count": 2,
   "metadata": {},
   "outputs": [],
   "source": [
    "import numpy as np\n",
    "import scipy.stats\n",
    "from sklearn.base import BaseEstimator\n",
    "class GaussianDensity(BaseEstimator):\n",
    "    def fit(self, X, y=None):\n",
    "        ##### Your code here #####\n",
    "        # You should estimate the mean and variance of the data  and save as self.mean_ and self.std_\n",
    "        # (note that X will be shape (n,1) because there is only 1 feature).\n",
    "        self.mean_, var  = scipy.stats.norm.fit(X)\n",
    "        self.std_ = np.sqrt(var)\n",
    "\n",
    "        \n",
    "        ##########################\n",
    "        return self\n",
    "    \n",
    "    def predict_proba(self, X):\n",
    "        ##### Your code here #####\n",
    "        # This should return the PDF values for each sample in X (again of shape (n, 1))\n",
    "        # This should use your self.mean_ and self.std_ variables saved from the fit method\n",
    "        pdf_values = scipy.stats.norm.pdf(X, loc=self.mean_, scale=self.std_)\n",
    "        pdf_values = np.reshape(pdf_values, (len(pdf_values),))\n",
    "        return pdf_values  # Output should be of shape (n,), i.e., a 1D array\n",
    "        ##########################"
   ]
  },
  {
   "cell_type": "markdown",
   "metadata": {},
   "source": [
    "### Task 1.2: Histogram density\n",
    "Now you will implement a histogram density estimate given min, max and number of bins.\n",
    "The function [`np.searchsorted`](https://numpy.org/doc/stable/reference/generated/numpy.searchsorted.html) may be useful but is not required.\n",
    "\n",
    "NOTE: The value of the histogram outside of the min max values should be set to 0."
   ]
  },
  {
   "cell_type": "code",
   "execution_count": 3,
   "metadata": {},
   "outputs": [],
   "source": [
    "import numpy as np\n",
    "import scipy.stats\n",
    "from sklearn.base import BaseEstimator\n",
    "class HistogramDensity(BaseEstimator):\n",
    "    def __init__(self, n_bins, min_val, max_val):\n",
    "        self.n_bins = n_bins\n",
    "        self.min_val = min_val\n",
    "        self.max_val = max_val\n",
    "    \n",
    "    def fit(self, X, y=None):\n",
    "        ##### Your code here #####\n",
    "        # First create equally spaced bin_edges based on min_val, max_val and n_bins\n",
    "        #  and save as self.bin_edges_\n",
    "        #  (note the shape of self.bin_edges_ should be (n_bins+1,) )\n",
    "        # Second, estimate the frequency for each bin based on the input data X\n",
    "        #  (i.e., the number of training samples that fall into that bin divided \n",
    "        #  by the total number of samples)\n",
    "        # Third, using the probability for each bin, compute the density value (i.e., PDF) for\n",
    "        #  each bin. (Note you will have to account for the width of the bin to ensure\n",
    "        #  that integrating your density function from min_value to max_value will be 1).\n",
    "        #  Save the density per bin as self.pdf_per_bin_ which should have the shape (n_bins,)\n",
    "        frequency, self.bin_edges_ = np.histogram(X, bins = self.n_bins, range = (self.min_val, self.max_val))\n",
    "        self.pdf_per_bin_, self.bin_edges_ = np.histogram(X, bins = self.bin_edges_, range = (self.min_val, self.max_val), density = True)\n",
    "        \n",
    "        ##########################\n",
    "        return self\n",
    "    \n",
    "    def predict_proba(self, X):\n",
    "        ##### Your code here #####\n",
    "        # You should return the PDF value of the samples X.  This requires finding out which\n",
    "        #  bin each sample falls into and returning it's corresponding density value\n",
    "        #  **Importantly, if the value is less than min_value or greater than max_value, \n",
    "        #    then a pdf value of 0 should be returned.\n",
    "        \n",
    "        pdf_values = []\n",
    "        for val in X:\n",
    "            if((val < self.min_val) or (val >= self.max_val)):\n",
    "                pdf_values.append(0)\n",
    "            \n",
    "            elif(val in self.bin_edges_):\n",
    "                idx = list(self.bin_edges_).index(val)\n",
    "                pdf_values.append(self.pdf_per_bin_[idx])\n",
    "                \n",
    "            else:\n",
    "                idx = np.searchsorted(self.bin_edges_, val)\n",
    "                idx -= 1\n",
    "                pdf_values.append(self.pdf_per_bin_[idx])\n",
    "            \n",
    "        pdf_values = np.reshape(pdf_values, (len(pdf_values),))\n",
    "            \n",
    "        return pdf_values  # Output should be of shape (n,), i.e., a 1D array\n",
    "        ##########################"
   ]
  },
  {
   "cell_type": "markdown",
   "metadata": {},
   "source": [
    "### Task 1.3: Kernel density\n",
    "Now you will implement a kernel density estimate (KDE) via a Gaussian kernel given the bandwidth parameter (i.e., the standard deviation of the Gaussian kernel.\n",
    "Specifically, the Gaussian kernel density is given by:\n",
    "$$p(x; \\mathcal{D}) = \\frac{1}{n}\\sum_{i=1}^n p_{\\mathcal{N}}(x; \\mu = x_i, \\sigma=h) $$\n",
    "where $\\mathcal{D}=\\{x_i\\}_{i=1}^n$ is a training dataset of $n$ samples, $p_{\\mathcal{N}}$ is the Gaussian/normal density function and $h$ is called the bandwidth hyperparameter of the KDE model.\n",
    "(Note that fitting merely requires saving the training dataset and using it to compute densities of new samples.)"
   ]
  },
  {
   "cell_type": "code",
   "execution_count": 4,
   "metadata": {},
   "outputs": [],
   "source": [
    "import numpy as np\n",
    "import scipy.stats\n",
    "from sklearn.base import BaseEstimator\n",
    "class KernelDensity(BaseEstimator):\n",
    "    def __init__(self, bandwidth):\n",
    "        self.bandwidth = bandwidth\n",
    "    \n",
    "    def fit(self, X, y=None):\n",
    "        ##### Your code here #####\n",
    "        # Save the training data in self.X_train_\n",
    "        self.X_train_ = X\n",
    "        ##########################\n",
    "        return self\n",
    "    \n",
    "    def predict_proba(self, X):\n",
    "        ##### Your code here #####\n",
    "        # You should return the KDE PDF value of the samples X.\n",
    "        #  Note that the sum above is over the TRAINING samples, not the test samples\n",
    "        #  so you should use the samples saved in the fit method.        \n",
    "        pdf_values = scipy.stats.norm.pdf(X, loc = self.X_train_.ravel(), scale = self.bandwidth)\n",
    "        pdf_values = np.mean(pdf_values, axis = 1)\n",
    "        return pdf_values  # Output should be of shape (n,), i.e., a 1D array\n",
    "        ##########################"
   ]
  },
  {
   "cell_type": "markdown",
   "metadata": {},
   "source": [
    "### Test code\n",
    "The following code will test each of your density estimators.\n",
    "Run this to test your code and this is what will be used for grading your code."
   ]
  },
  {
   "cell_type": "code",
   "execution_count": 6,
   "metadata": {},
   "outputs": [
    {
     "name": "stdout",
     "output_type": "stream",
     "text": [
      "(200, 1) (200, 1)\n",
      "Fitting GaussianDensity model\n",
      "True, Shape=(1000,) - Is the output the correct shape?\n",
      "True, Num neg=0 - Are all pdf values >= 0? \n",
      "True, quad_out=0.9999999999999738 - Does the PDF integrate to 1? \n",
      "\n",
      "Fitting HistogramDensity model\n",
      "True, Shape=(1000,) - Is the output the correct shape?\n",
      "True, Num neg=0 - Are all pdf values >= 0? \n",
      "True, quad_out=1.0000443726212072 - Does the PDF integrate to 1? \n",
      "\n",
      "Fitting KernelDensity model\n",
      "True, Shape=(1000,) - Is the output the correct shape?\n",
      "True, Num neg=0 - Are all pdf values >= 0? \n",
      "True, quad_out=1.0000000000000002 - Does the PDF integrate to 1? \n",
      "\n"
     ]
    },
    {
     "data": {
      "text/plain": [
       "<matplotlib.legend.Legend at 0x7fa00e8c33a0>"
      ]
     },
     "execution_count": 6,
     "metadata": {},
     "output_type": "execute_result"
    },
    {
     "data": {
      "image/png": "[encoded data removed]",
      "text/plain": [
       "<Figure size 432x288 with 1 Axes>"
      ]
     },
     "metadata": {
      "needs_background": "light"
     },
     "output_type": "display_data"
    }
   ],
   "source": [
    "import scipy.stats\n",
    "import matplotlib.pyplot as plt\n",
    "from sklearn.model_selection import train_test_split\n",
    "# Generate some data and split into train and test\n",
    "min_val, max_val = -5, 5\n",
    "diff = max_val - min_val\n",
    "X = diff * np.vstack([scipy.stats.beta(6,1).rvs(size=(300,1)), scipy.stats.beta(2,7).rvs(size=(100,1))]) - diff/2\n",
    "X_train, X_test = train_test_split(X, test_size=0.5, random_state=15)\n",
    "print(X_train.shape, X_test.shape)\n",
    "\n",
    "# Loop through models\n",
    "models = [GaussianDensity(), \n",
    "          HistogramDensity(n_bins=15, min_val=min_val, max_val=max_val),\n",
    "          KernelDensity(bandwidth=1)\n",
    "         ]\n",
    "for model in models:\n",
    "    print(f'Fitting {type(model).__name__} model')\n",
    "    # Fit models\n",
    "    model.fit(X_train)\n",
    "\n",
    "    # Sanity checks \n",
    "    xq = np.linspace(min_val-diff, max_val+diff, num=1000)\n",
    "    pdf_vals = model.predict_proba(xq.reshape(-1, 1))\n",
    "    # Check that right size and >= 0\n",
    "    print(f'{len(pdf_vals.shape) == 1 and pdf_vals.shape[0] == len(xq)}, Shape={pdf_vals.shape}'\n",
    "          f' - Is the output the correct shape?') \n",
    "    print(f'{np.all(pdf_vals>=0)}, Num neg={np.sum(pdf_vals < 0)} - Are all pdf values >= 0? ')\n",
    "    \n",
    "    # Check that integrates to 1 vai approximate numerical integration\n",
    "    model_pdf = lambda x: model.predict_proba(np.array(x).reshape(1,1))[0]\n",
    "    quad_out = scipy.integrate.quad(model_pdf, min_val - diff, max_val + diff, limit=100, full_output=True)\n",
    "    print(f'{np.abs(quad_out[0] - 1) < 1e-4}, quad_out={quad_out[0]} - Does the PDF integrate to 1? ')\n",
    "    print('')\n",
    "\n",
    "    # Plot density model\n",
    "    plt.plot(xq, pdf_vals, label=type(model).__name__)\n",
    "    \n",
    "plt.legend()"
   ]
  },
  {
   "cell_type": "markdown",
   "metadata": {},
   "source": [
    "## Exercise 2: Determine optimal hyperparameters based on 10-fold cross validation\n",
    "In this exercise, you need to write code that will use your estimators from above to automatically choose the best hyperparameters for the histogram and kernel density estimator.  In particular, find the best `n_bins` and `bandwidth` for the histogram and KDE respectively.\n",
    "\n",
    "### Task 1: Implement custom scorer function for use in GridSearchCV\n",
    "To do this, you will need to implement a `scorer` function that will compute the log likelihood of the data given (higher is better).\n",
    "This function takes in the model, the input data X and y_true (which defaults to None since this is an unsupervised problem)."
   ]
  },
  {
   "cell_type": "code",
   "execution_count": 7,
   "metadata": {},
   "outputs": [],
   "source": [
    "def mean_log_likelihood_scorer(model, X, y_true=None):\n",
    "    ########## Your code here ########\n",
    "    # Compute and return the mean log probability of the data\n",
    "    #  (Note y_true is not used)\n",
    "    mean_ll = np.mean(np.log(model.predict_proba(X)))\n",
    "    return mean_ll\n",
    "    ############"
   ]
  },
  {
   "cell_type": "markdown",
   "metadata": {},
   "source": [
    "### Task 2: Estimate best hyperparameters\n",
    "Then you can use sklearn's cross validation utilities to cross validate using the training data to determine the best parameters by passing this function as the `scoring` argument of GridSearchCV (note you just pass it directly as `mean_log_likelihood_scorer` without the parenthesis; this is known as passing a function to another function).\n",
    "\n",
    "You should try 2-20 number of bins and a 50 bandwidth parameters linearly spaced between 0.1 and 10.\n",
    "\n",
    "Finally, print out the optimal hyperparameters and, using the optimal hyperparameters, print out the log likelihood of the test data for both the histogram and KDE model."
   ]
  },
  {
   "cell_type": "code",
   "execution_count": 8,
   "metadata": {},
   "outputs": [
    {
     "name": "stdout",
     "output_type": "stream",
     "text": [
      "The best number of bins using HistogramDensity() is: {'max_val': 5, 'min_val': -5, 'n_bins': 5} and this has a score of: -2.271890171737717\n",
      "The best bandwidth using KernelDensity() is: {'bandwidth': 0.3020408163265306} and this has a score of: -2.3450226512022865\n"
     ]
    }
   ],
   "source": [
    "############ Your code here #############\n",
    "from sklearn.model_selection import GridSearchCV\n",
    "bins = list(range(2,21))\n",
    "bandwidths = list(np.linspace(0.1, 10, num=50))\n",
    "\n",
    "parameters = {'bandwidth': bandwidths}\n",
    "kde = GridSearchCV(KernelDensity(bandwidth = 3), parameters, scoring = mean_log_likelihood_scorer, cv = 5)\n",
    "kde.fit(X)\n",
    "\n",
    "parameters = {'n_bins': bins, \"min_val\": [min_val], \"max_val\": [max_val]}\n",
    "hist = GridSearchCV(HistogramDensity(n_bins = 3, min_val = min_val, max_val = max_val), parameters, scoring = mean_log_likelihood_scorer, cv = 5)\n",
    "hist.fit(X)\n",
    "\n",
    "print(\"The best number of bins using HistogramDensity() is:\", hist.best_params_, \"and this has a score of:\", hist.best_score_)\n",
    "print(\"The best bandwidth using KernelDensity() is:\", kde.best_params_, \"and this has a score of:\", kde.best_score_)    "
   ]
  },
  {
   "cell_type": "code",
   "execution_count": null,
   "metadata": {},
   "outputs": [],
   "source": []
  }
 ],
 "metadata": {
  "accelerator": "GPU",
  "colab": {
   "collapsed_sections": [],
   "name": "Assignment_04_Exercise.ipynb",
   "provenance": []
  },
  "kernelspec": {
   "display_name": "Python 3",
   "language": "python",
   "name": "python3"
  },
  "language_info": {
   "codemirror_mode": {
    "name": "ipython",
    "version": 3
   },
   "file_extension": ".py",
   "mimetype": "text/x-python",
   "name": "python",
   "nbconvert_exporter": "python",
   "pygments_lexer": "ipython3",
   "version": "3.9.1"
  }
 },
 "nbformat": 4,
 "nbformat_minor": 4
}
