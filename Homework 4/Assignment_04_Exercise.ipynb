{
 "cells": [
  {
   "cell_type": "markdown",
   "metadata": {
    "id": "zmwWs4S9cRIn"
   },
   "source": [
    "# ECE 57000 Assignment 4 Exercise\n",
    "\n",
    "Your Name: Nikita Ravi"
   ]
  },
  {
   "cell_type": "markdown",
   "metadata": {
    "id": "Vmlsa88cqmib"
   },
   "source": [
    "## Exercise 0: Train your model on GPU (0 points)"
   ]
  },
  {
   "cell_type": "code",
   "execution_count": null,
   "metadata": {
    "id": "Ipa2b7-y5Pfz"
   },
   "outputs": [],
   "source": [
    "import torch\n",
    "import torchvision\n",
    "import torch.nn as nn\n",
    "import torch.nn.functional as F\n",
    "import torch.optim as optim\n",
    "import torch\n",
    "import torchvision\n",
    "import torchvision.transforms as transforms\n",
    "import matplotlib.pyplot as plt\n",
    "import numpy as np\n",
    "import torchvision.models as models\n"
   ]
  },
  {
   "cell_type": "markdown",
   "metadata": {
    "id": "WfirXJR3qvB0"
   },
   "source": [
    "For some tasks in this assignment, it can take a long time if you run it on CPU. For example, based on our test on Exercise 3 Task 4, it will take roughly 2 hours to train the full model for 1 epoch on CPU. Hence, we highly recommend you try to train your model on GPU.\n",
    "\n",
    "To do so, first you need to enable GPU on Colab (this will restart the runtime). Click `Runtime`-> `Change runtime type` and select the `Hardware accelerator` there.  You can then run the following code to see if the GPU is correctly initialized and available.\n",
    "\n"
   ]
  },
  {
   "cell_type": "code",
   "execution_count": null,
   "metadata": {
    "colab": {
     "base_uri": "https://localhost:8080/"
    },
    "executionInfo": {
     "elapsed": 133,
     "status": "ok",
     "timestamp": 1633117544795,
     "user": {
      "displayName": "Nikita Ravi",
      "photoUrl": "https://lh3.googleusercontent.com/a/default-user=s64",
      "userId": "09027066114679546859"
     },
     "user_tz": 240
    },
    "id": "TT7wKvilvBvX",
    "outputId": "d8554fdb-1ec8-4fdf-e9a2-8061cf5167c1"
   },
   "outputs": [
    {
     "name": "stdout",
     "output_type": "stream",
     "text": [
      "Can I can use GPU now? -- True\n"
     ]
    }
   ],
   "source": [
    "print(f'Can I can use GPU now? -- {torch.cuda.is_available()}')"
   ]
  },
  {
   "cell_type": "markdown",
   "metadata": {
    "id": "hnPPDoA7vQWp"
   },
   "source": [
    "### You must manually move your model and data to the GPU (and sometimes back to the cpu)\n",
    "After setting the GPU up on colab, then you should put your **model** and **data** to GPU. We give a simple example below. You can use `to` function for this task. See [torch.Tensor.to](https://pytorch.org/docs/stable/generated/torch.Tensor.to.html) to move a tensor to the GPU (probably your mini-batch of data in each iteration) or [torch.nn.Module.to](https://pytorch.org/docs/stable/generated/torch.nn.Module.html#torch.nn.Module.to) to move your NN model to GPU (assuming you create subclass [torch.nn.Module](https://pytorch.org/docs/stable/generated/torch.nn.Module.html)). Note that `to()` of tensor returns a NEW tensor while `to` of a NN model will apply this in-place. To be safe, the best semantics are `obj = obj.to(device)`. For printing, you will need to move a tensor back to the CPU via the `cpu()` function.\n",
    "\n",
    "Once the model and input data are on the GPU, everything else can be done the same.  This is the beauty of PyTorch GPU acceleration.  None of the other code needs to be altered.\n",
    "\n",
    "To summarize, you need to 1) enable GPU acceleration in Colab, 2) put the model on the GPU, and 3) put the input data (i.e., the batch of samples) onto the GPU using `to()` after it is loaded by the data loaders (usually you only put one batch of data on the GPU at a time)."
   ]
  },
  {
   "cell_type": "code",
   "execution_count": null,
   "metadata": {
    "colab": {
     "base_uri": "https://localhost:8080/"
    },
    "executionInfo": {
     "elapsed": 9089,
     "status": "ok",
     "timestamp": 1633117553882,
     "user": {
      "displayName": "Nikita Ravi",
      "photoUrl": "https://lh3.googleusercontent.com/a/default-user=s64",
      "userId": "09027066114679546859"
     },
     "user_tz": 240
    },
    "id": "lUdR8v7Kt-6S",
    "outputId": "24db3b3b-0a11-4128-f18b-2c4bc3164de9"
   },
   "outputs": [
    {
     "name": "stdout",
     "output_type": "stream",
     "text": [
      "input is on cpu\n",
      "model parameters are on [device(type='cpu'), device(type='cpu'), device(type='cpu'), device(type='cpu')]\n",
      "output is on cpu\n",
      "input is on cuda:0\n",
      "model parameters are on [device(type='cuda', index=0), device(type='cuda', index=0), device(type='cuda', index=0), device(type='cuda', index=0)]\n",
      "output is on cuda:0\n"
     ]
    }
   ],
   "source": [
    "rand_tensor = torch.rand(5,2)\n",
    "simple_model = nn.Sequential(nn.Linear(2,10), nn.ReLU(), nn.Linear(10,1))\n",
    "print(f'input is on {rand_tensor.device}')\n",
    "print(f'model parameters are on {[param.device for param in simple_model.parameters()]}')\n",
    "print(f'output is on {simple_model(rand_tensor).device}')\n",
    "\n",
    "device = torch.device('cuda')\n",
    "# ----------- <Your code> ---------------\n",
    "# Move rand_tensor and model onto the GPU device\n",
    "rand_tensor = rand_tensor.to(device)\n",
    "simple_model = simple_model.to(device)\n",
    "\n",
    "\n",
    "\n",
    "# --------- <End your code> -------------\n",
    "print(f'input is on {rand_tensor.device}')\n",
    "print(f'model parameters are on {[param.device for param in simple_model.parameters()]}')\n",
    "print(f'output is on {simple_model(rand_tensor).device}')"
   ]
  },
  {
   "cell_type": "markdown",
   "metadata": {
    "id": "Zz2T0QYYpwVR"
   },
   "source": [
    "## Exercise 1: Why use a CNN rather than only fully connected layers? (30 points)\n",
    "\n",
    "In this exercise, you will build two models for the **MNIST** dataset: one uses only fully connected layers and another uses a standard CNN layout (convolution layers everywhere except the last layer is fully connected layer). The two models should be built with roughly the same accuracy performance, your task is to compare the number of network parameters (a huge number of parameters can affect training/testing time, memory requirements, overfitting, etc.)."
   ]
  },
  {
   "cell_type": "markdown",
   "metadata": {
    "id": "DFKqew7r-E-q"
   },
   "source": [
    "### Task 1: Following the structure used in the instructions, you should create\n",
    "\n",
    "*   One network named **OurFC** which should consist with only fully connected layers\n",
    "\n",
    "  *   You should decide how many layers and how many hidden dimensions you want in your network \n",
    "  *   Your final accuracy on the test dataset should lie roughly around 90% ($\\pm$2%)\n",
    "  *   There is no need to make the neural network unnecessarily complex, your total training time should no longer than 3 mins\n",
    "\n",
    "*   Another network named **OurCNN** which applys a standard CNN structure\n",
    "  *   Again, you should decide how many layers and how many channels you want for each layer.\n",
    "  *   Your final accuracy on the test dataset should lie roughly around 90% ($\\pm$2%)\n",
    "  *   A standard CNN structure can be composed as **[Conv2d, MaxPooling, ReLU] x num_conv_layers + FC x num_fc_layers**\n",
    "\n",
    "* Train and test your network on MNIST data as in the instructions\n",
    "* You are **required** to print out the loss in the training and loss+accuracy in the test as in the instructions."
   ]
  },
  {
   "cell_type": "code",
   "execution_count": null,
   "metadata": {
    "id": "h2xpOGihM3qK"
   },
   "outputs": [],
   "source": [
    "def train(classifier, epoch):\n",
    "  classifier.train()\n",
    "\n",
    "  for batch_idx, (images, targets) in enumerate(train_loader):\n",
    "    optimizer.zero_grad()\n",
    "    output = classifier(images)\n",
    "    loss = F.nll_loss(output, targets)\n",
    "    loss.backward()\n",
    "    optimizer.step()\n",
    "\n",
    "def test(classifier, epoch):\n",
    "  classifier.eval()\n",
    "  test_loss = 0\n",
    "  correct = 0\n",
    "\n",
    "  with torch.no_grad():\n",
    "    for images, targets in test_loader:\n",
    "      output = classifier(images)\n",
    "      test_loss += F.nll_loss(output, targets, reduction='sum').item()\n",
    "      prediction = output.data.max(1, keepdim=True)[1]\n",
    "      correct += prediction.eq(targets.data.view_as(prediction)).sum()\n",
    "  \n",
    "  test_loss /= len(test_loader.dataset)\n",
    "  test_losses.append(test_loss)\n",
    "  test_counter.append(len(train_loader.dataset)*epoch)\n",
    "\n",
    "  print(f'Test result on epoch {epoch}: Avg loss is {test_loss}, Accuracy: {100.*correct/len(test_loader.dataset)}%')"
   ]
  },
  {
   "cell_type": "code",
   "execution_count": null,
   "metadata": {
    "colab": {
     "base_uri": "https://localhost:8080/",
     "height": 618,
     "referenced_widgets": [
      "68d1a56997d547d9bce4f995b91608dd",
      "4369486704304952bd760b071c5e2aae",
      "7192c09a77f6439782002b0bee5befd5",
      "2eac60182d39419dad5000dfb02db07f",
      "5c8a757917324e289369844d5c03b84a",
      "05911a2cdae34aca953eedd1d9d9248b",
      "dbbf207ec21c4119a883641adfd8b160",
      "a3fa51b82d8544aba6f252369ecdce36",
      "3633729d0730413db921ce70b550b765",
      "e8209128f1994bd2a00d2243842af842",
      "85dcfcd086d94d66b8444ff07b4857fa",
      "6b3cb8d776154e00b544394218539f06",
      "5d8845d272804d3b9b5747b9703cdf3e",
      "fbd2885a02f34b13841e061dab329736",
      "b56dcb6fc461489883c7873cf9f432c6",
      "da61d6356b664b49bfb77b34619d90da",
      "bc69fb3966c147d38426e8fbe9dffab4",
      "64066dcab25340d2a25dfaec0821dd90",
      "793401bd4c564e2ca57466d7497d7a26",
      "d3d99fe19f9e4e9abfc65a7ef9183eeb",
      "fd40c6d9084f4906baaba1e0f7ad3cb2",
      "290c44c4518c4743827221e9a4b1ce3a",
      "26e53f8a4a784c03bc3c506f563a9c62",
      "323219714d6341839264ef5a4ff3cb5d",
      "8727865777b94d528e3b2fa4f016bc65",
      "be225e5b86dd42329ac0504b1e16e68c",
      "12166cfd08d046db8f1ac372b0992564",
      "168f1281361e4a07a236727f9a984d93",
      "b2dade9886b040cca984aa4e9e51529f",
      "d37a7ba70cdb4335bb0eb1f119c74622",
      "a0722848782a45fe8e92bb47f0be342e",
      "50999e4eaf524ca1b8ee2a1fc11a2cb5",
      "0900e21645f14342aee0c50f602fdae3",
      "3133445fdd174eff887690cb8ca3dce3",
      "0646459317234c3bb5fe35f08bf2047f",
      "c6975f0999aa49ba92c7cb99173a87f4",
      "28bd0b8e957549edb9914fb639798848",
      "b26bfc031eb94afcb184a6ddd70402bd",
      "eb6b1f136f794c0fa8dda743103de8e4",
      "0d01881e2cef437782f79104777dad42",
      "263365ba702e4ad892038835c949545f",
      "3dad08d91add4e388b09f967da9664a3",
      "6d6c9f87df05404a9b180c560d66902e",
      "bd521233464b431ca711f0f614540b50"
     ]
    },
    "executionInfo": {
     "elapsed": 1625,
     "status": "ok",
     "timestamp": 1633071835391,
     "user": {
      "displayName": "Nikita Ravi",
      "photoUrl": "https://lh3.googleusercontent.com/a/default-user=s64",
      "userId": "09027066114679546859"
     },
     "user_tz": 240
    },
    "id": "aSTRl2B9R6q_",
    "outputId": "c3fdde7b-c8df-45b9-8b6c-864f9617d9d2"
   },
   "outputs": [
    {
     "name": "stdout",
     "output_type": "stream",
     "text": [
      "Downloading http://yann.lecun.com/exdb/mnist/train-images-idx3-ubyte.gz\n",
      "Downloading http://yann.lecun.com/exdb/mnist/train-images-idx3-ubyte.gz to ./MNIST/raw/train-images-idx3-ubyte.gz\n"
     ]
    },
    {
     "data": {
      "application/vnd.jupyter.widget-view+json": {
       "model_id": "68d1a56997d547d9bce4f995b91608dd",
       "version_major": 2,
       "version_minor": 0
      },
      "text/plain": [
       "  0%|          | 0/9912422 [00:00<?, ?it/s]"
      ]
     },
     "metadata": {},
     "output_type": "display_data"
    },
    {
     "name": "stdout",
     "output_type": "stream",
     "text": [
      "Extracting ./MNIST/raw/train-images-idx3-ubyte.gz to ./MNIST/raw\n",
      "\n",
      "Downloading http://yann.lecun.com/exdb/mnist/train-labels-idx1-ubyte.gz\n",
      "Downloading http://yann.lecun.com/exdb/mnist/train-labels-idx1-ubyte.gz to ./MNIST/raw/train-labels-idx1-ubyte.gz\n"
     ]
    },
    {
     "data": {
      "application/vnd.jupyter.widget-view+json": {
       "model_id": "6b3cb8d776154e00b544394218539f06",
       "version_major": 2,
       "version_minor": 0
      },
      "text/plain": [
       "  0%|          | 0/28881 [00:00<?, ?it/s]"
      ]
     },
     "metadata": {},
     "output_type": "display_data"
    },
    {
     "name": "stdout",
     "output_type": "stream",
     "text": [
      "Extracting ./MNIST/raw/train-labels-idx1-ubyte.gz to ./MNIST/raw\n",
      "\n",
      "Downloading http://yann.lecun.com/exdb/mnist/t10k-images-idx3-ubyte.gz\n",
      "Downloading http://yann.lecun.com/exdb/mnist/t10k-images-idx3-ubyte.gz to ./MNIST/raw/t10k-images-idx3-ubyte.gz\n"
     ]
    },
    {
     "data": {
      "application/vnd.jupyter.widget-view+json": {
       "model_id": "26e53f8a4a784c03bc3c506f563a9c62",
       "version_major": 2,
       "version_minor": 0
      },
      "text/plain": [
       "  0%|          | 0/1648877 [00:00<?, ?it/s]"
      ]
     },
     "metadata": {},
     "output_type": "display_data"
    },
    {
     "name": "stdout",
     "output_type": "stream",
     "text": [
      "Extracting ./MNIST/raw/t10k-images-idx3-ubyte.gz to ./MNIST/raw\n",
      "\n",
      "Downloading http://yann.lecun.com/exdb/mnist/t10k-labels-idx1-ubyte.gz\n",
      "Downloading http://yann.lecun.com/exdb/mnist/t10k-labels-idx1-ubyte.gz to ./MNIST/raw/t10k-labels-idx1-ubyte.gz\n"
     ]
    },
    {
     "data": {
      "application/vnd.jupyter.widget-view+json": {
       "model_id": "3133445fdd174eff887690cb8ca3dce3",
       "version_major": 2,
       "version_minor": 0
      },
      "text/plain": [
       "  0%|          | 0/4542 [00:00<?, ?it/s]"
      ]
     },
     "metadata": {},
     "output_type": "display_data"
    },
    {
     "name": "stdout",
     "output_type": "stream",
     "text": [
      "Extracting ./MNIST/raw/t10k-labels-idx1-ubyte.gz to ./MNIST/raw\n",
      "\n",
      "Dataset MNIST\n",
      "    Number of datapoints: 60000\n",
      "    Root location: ./\n",
      "    Split: Train\n",
      "    StandardTransform\n",
      "Transform: Compose(\n",
      "               ToTensor()\n",
      "               Normalize(mean=(0.1307,), std=(0.3081,))\n",
      "           )\n"
     ]
    },
    {
     "name": "stderr",
     "output_type": "stream",
     "text": [
      "/usr/local/lib/python3.7/dist-packages/torchvision/datasets/mnist.py:498: UserWarning: The given NumPy array is not writeable, and PyTorch does not support non-writeable tensors. This means you can write to the underlying (supposedly non-writeable) NumPy array using the tensor. You may want to copy the array to protect its data or make it writeable before converting it to a tensor. This type of warning will be suppressed for the rest of this program. (Triggered internally at  /pytorch/torch/csrc/utils/tensor_numpy.cpp:180.)\n",
      "  return torch.from_numpy(parsed.astype(m[2], copy=False)).view(*s)\n"
     ]
    }
   ],
   "source": [
    "transform = torchvision.transforms.Compose([torchvision.transforms.ToTensor(),\n",
    "                      torchvision.transforms.Normalize((0.1307,),(0.3081,))])\n",
    "\n",
    "train_dataset = torchvision.datasets.MNIST('./', train=True, download=True, transform=transform)\n",
    "test_dataset = torchvision.datasets.MNIST('./', train=False, download=True, transform=transform)\n",
    "\n",
    "print(train_dataset)"
   ]
  },
  {
   "cell_type": "code",
   "execution_count": null,
   "metadata": {
    "colab": {
     "base_uri": "https://localhost:8080/"
    },
    "executionInfo": {
     "elapsed": 205,
     "status": "ok",
     "timestamp": 1633071837500,
     "user": {
      "displayName": "Nikita Ravi",
      "photoUrl": "https://lh3.googleusercontent.com/a/default-user=s64",
      "userId": "09027066114679546859"
     },
     "user_tz": 240
    },
    "id": "z90u5vVsSFT_",
    "outputId": "7f90acb3-bd19-4465-d86c-97fb63465186"
   },
   "outputs": [
    {
     "name": "stdout",
     "output_type": "stream",
     "text": [
      "<torch.utils.data.dataloader.DataLoader object at 0x7fb8f2a604d0>\n"
     ]
    }
   ],
   "source": [
    "batch_size_train, batch_size_test = 64, 1000\n",
    "\n",
    "train_loader = torch.utils.data.DataLoader(train_dataset, batch_size=batch_size_train, shuffle=True)\n",
    "test_loader = torch.utils.data.DataLoader(test_dataset, batch_size=batch_size_test, shuffle=False)\n",
    "\n",
    "print(train_loader)"
   ]
  },
  {
   "cell_type": "code",
   "execution_count": null,
   "metadata": {
    "id": "FIVO5T4JgA_N"
   },
   "outputs": [],
   "source": [
    "# ----------- <Your code> ---------------\n",
    "class OurFC(nn.Module):\n",
    "  def __init__(self):\n",
    "    super(OurFC, self).__init__()\n",
    "    \n",
    "    self.fc = nn.Linear(28*28, 20)    \n",
    "\n",
    "  def forward(self, x):\n",
    "    x = x.view(-1, 28*28)      \n",
    "    x = F.relu(self.fc(x))\n",
    "    return F.log_softmax(x,-1)"
   ]
  },
  {
   "cell_type": "code",
   "execution_count": null,
   "metadata": {
    "id": "DSoOjT58Mywm"
   },
   "outputs": [],
   "source": [
    "fc = OurFC()\n",
    "optimizer = optim.SGD(fc.parameters(), lr=0.01, momentum=0.8)"
   ]
  },
  {
   "cell_type": "code",
   "execution_count": null,
   "metadata": {
    "colab": {
     "base_uri": "https://localhost:8080/"
    },
    "executionInfo": {
     "elapsed": 45830,
     "status": "ok",
     "timestamp": 1633071887000,
     "user": {
      "displayName": "Nikita Ravi",
      "photoUrl": "https://lh3.googleusercontent.com/a/default-user=s64",
      "userId": "09027066114679546859"
     },
     "user_tz": 240
    },
    "id": "Wi2dJ5PcSJu9",
    "outputId": "8e2a80e7-4a30-43d8-a9df-55a3c9170200"
   },
   "outputs": [
    {
     "name": "stdout",
     "output_type": "stream",
     "text": [
      "Test result on epoch 1: Avg loss is 0.2903271011352539, Accuracy: 91.98999786376953%\n",
      "Test result on epoch 2: Avg loss is 0.29755889129638674, Accuracy: 91.5999984741211%\n",
      "Test result on epoch 3: Avg loss is 0.2863907272338867, Accuracy: 91.77999877929688%\n"
     ]
    }
   ],
   "source": [
    "test_losses = []\n",
    "test_counter = []\n",
    "max_epoch = 3\n",
    "\n",
    "for epoch in range(1, max_epoch+1):\n",
    "  train(fc, epoch)\n",
    "  test(fc, epoch)\n"
   ]
  },
  {
   "cell_type": "code",
   "execution_count": null,
   "metadata": {
    "id": "2f0529-Uz3P3"
   },
   "outputs": [],
   "source": [
    "class OurCNN(nn.Module):\n",
    "  def __init__(self):\n",
    "    super(OurCNN, self).__init__()\n",
    "\n",
    "    self.conv = nn.Conv2d(1, 3, kernel_size=5)\n",
    "    self.fc = nn.Linear(432, 10)\n",
    "    self.pool = nn.MaxPool2d(2,2)\n",
    "\n",
    "  def forward(self, x):\n",
    "    x = self.conv(x)        \n",
    "    x = F.relu(self.pool(x))  \n",
    "    x = x.view(-1, 432)     \n",
    "    x = F.relu(self.fc(x))     \n",
    "    return F.log_softmax(x,-1) "
   ]
  },
  {
   "cell_type": "code",
   "execution_count": null,
   "metadata": {
    "id": "Xzj9Ovc1MesM"
   },
   "outputs": [],
   "source": [
    "cnn = OurCNN()\n",
    "optimizer = optim.SGD(cnn.parameters(), lr=0.01, momentum=0.8)"
   ]
  },
  {
   "cell_type": "code",
   "execution_count": null,
   "metadata": {
    "colab": {
     "base_uri": "https://localhost:8080/"
    },
    "executionInfo": {
     "elapsed": 61339,
     "status": "ok",
     "timestamp": 1633071972510,
     "user": {
      "displayName": "Nikita Ravi",
      "photoUrl": "https://lh3.googleusercontent.com/a/default-user=s64",
      "userId": "09027066114679546859"
     },
     "user_tz": 240
    },
    "id": "S36YAFkiFPje",
    "outputId": "df3b1d86-e7bb-4153-87b5-d3d1ad9f38e0"
   },
   "outputs": [
    {
     "name": "stderr",
     "output_type": "stream",
     "text": [
      "/usr/local/lib/python3.7/dist-packages/torch/nn/functional.py:718: UserWarning: Named tensors and all their associated APIs are an experimental feature and subject to change. Please do not use them for anything important until they are released as stable. (Triggered internally at  /pytorch/c10/core/TensorImpl.h:1156.)\n",
      "  return torch.max_pool2d(input, kernel_size, stride, padding, dilation, ceil_mode)\n"
     ]
    },
    {
     "name": "stdout",
     "output_type": "stream",
     "text": [
      "Test result on epoch 1: Avg loss is 0.343956103515625, Accuracy: 87.63999938964844%\n",
      "Test result on epoch 2: Avg loss is 0.1004204174041748, Accuracy: 97.01000213623047%\n",
      "Test result on epoch 3: Avg loss is 0.08652187042236328, Accuracy: 97.22000122070312%\n"
     ]
    }
   ],
   "source": [
    "test_losses = []\n",
    "test_counter = []\n",
    "max_epoch = 3\n",
    "\n",
    "for epoch in range(1, max_epoch+1):\n",
    "  train(cnn, epoch)\n",
    "  test(cnn, epoch)"
   ]
  },
  {
   "cell_type": "markdown",
   "metadata": {
    "id": "8fJY7m55fObt"
   },
   "source": [
    "### Task 2: Compare the number of parameters that are used in both your neural networks by printing out the total number of parameters for both of your networks."
   ]
  },
  {
   "cell_type": "markdown",
   "metadata": {
    "id": "JEVoEH2QLvv0"
   },
   "source": [
    "**Note:** You need to clearly show which number corresponds to which network."
   ]
  },
  {
   "cell_type": "code",
   "execution_count": null,
   "metadata": {
    "colab": {
     "base_uri": "https://localhost:8080/"
    },
    "executionInfo": {
     "elapsed": 198,
     "status": "ok",
     "timestamp": 1633071977734,
     "user": {
      "displayName": "Nikita Ravi",
      "photoUrl": "https://lh3.googleusercontent.com/a/default-user=s64",
      "userId": "09027066114679546859"
     },
     "user_tz": 240
    },
    "id": "JrjN1dr_f-lc",
    "outputId": "80584848-47a7-4cce-ada4-f2faeedf4837"
   },
   "outputs": [
    {
     "name": "stdout",
     "output_type": "stream",
     "text": [
      "Fully Connected NN:  fc.weight , torch.Size([20, 784]) <class 'torch.nn.parameter.Parameter'>\n",
      "Fully Connected NN:  fc.bias , torch.Size([20]) <class 'torch.nn.parameter.Parameter'>\n",
      "Total number of parameters:  2\n"
     ]
    }
   ],
   "source": [
    "# ----------- <Your code> ---------------\n",
    "fc = OurFC()\n",
    "for name, p in fc.named_parameters():\n",
    "  print(\"Fully Connected NN: \", name, ',', p.size(), type(p))\n",
    "\n",
    "total = len(list(fc.named_parameters()))\n",
    "print(\"Total number of parameters: \", total)"
   ]
  },
  {
   "cell_type": "code",
   "execution_count": null,
   "metadata": {
    "colab": {
     "base_uri": "https://localhost:8080/"
    },
    "executionInfo": {
     "elapsed": 418,
     "status": "ok",
     "timestamp": 1633071979406,
     "user": {
      "displayName": "Nikita Ravi",
      "photoUrl": "https://lh3.googleusercontent.com/a/default-user=s64",
      "userId": "09027066114679546859"
     },
     "user_tz": 240
    },
    "id": "tV-rQDbt2xrm",
    "outputId": "fb34a308-7f5f-46c5-9b73-7d954cd67f70"
   },
   "outputs": [
    {
     "name": "stdout",
     "output_type": "stream",
     "text": [
      "Convolutional Neural Network:  conv.weight , torch.Size([3, 1, 5, 5]) <class 'torch.nn.parameter.Parameter'>\n",
      "Convolutional Neural Network:  conv.bias , torch.Size([3]) <class 'torch.nn.parameter.Parameter'>\n",
      "Convolutional Neural Network:  fc.weight , torch.Size([10, 432]) <class 'torch.nn.parameter.Parameter'>\n",
      "Convolutional Neural Network:  fc.bias , torch.Size([10]) <class 'torch.nn.parameter.Parameter'>\n",
      "Total number of parameters:  4\n"
     ]
    }
   ],
   "source": [
    "cnn = OurCNN()\n",
    "for name, p in cnn.named_parameters():\n",
    "  print(\"Convolutional Neural Network: \", name, ',', p.size(), type(p))\n",
    "\n",
    "total = len(list(cnn.named_parameters()))\n",
    "print(\"Total number of parameters: \", total)"
   ]
  },
  {
   "cell_type": "markdown",
   "metadata": {
    "id": "v5oMKOrhmfpM"
   },
   "source": [
    "Questions (0 points, just for understanding): Which one has more parameters?  Which one is likely to have less computational cost when deployed? Which one took longer to train?"
   ]
  },
  {
   "cell_type": "markdown",
   "metadata": {
    "id": "290mOBEHgEXr"
   },
   "source": [
    "## Exercise 2: Train classifier on CIFAR-10 data. (30 points)\n",
    "Now, lets move our dataset to color images. CIFAR-10 dataset is another widely used dataset. Here all images have colors, i.e each image has 3 color channels instead of only one channel in MNIST. You need to pay more attention to the dimension of the data as it passes through the layers of your network."
   ]
  },
  {
   "cell_type": "markdown",
   "metadata": {
    "id": "IHClZywoGwWt"
   },
   "source": [
    "### Task 1: Create data loaders and plot images\n",
    "Set up a `train_loader` and `test_loader` for the CIFAR-10 data, and plot a figure:\n",
    "\n",
    "*   3 x 3 subplot\n",
    "*   each subplot is a randomly chosen image from the test dataset\n",
    "*   label each image with its label\n",
    "\n",
    "The corresponding names of the classes is given as \n",
    "`classes = ('plane', 'car', 'bird', 'cat', 'deer', 'dog', 'frog', 'horse', 'ship', 'truck')`\n",
    "\n",
    "Note: In your transforms, the normalizing constant is given as `transforms.Normalize((0.5, 0.5, 0.5), (0.5, 0.5, 0.5))])`"
   ]
  },
  {
   "cell_type": "code",
   "execution_count": null,
   "metadata": {
    "id": "oF1N68fkAlqx"
   },
   "outputs": [],
   "source": [
    "def imshow(row, col, img, label):\n",
    "  img = img / 2 + 0.5\n",
    "  npimg = img.numpy()\n",
    "  axs[row,col].imshow(np.transpose(npimg, (1,2,0)))\n",
    "  axs[row,col].set_title(label)\n"
   ]
  },
  {
   "cell_type": "code",
   "execution_count": null,
   "metadata": {
    "colab": {
     "base_uri": "https://localhost:8080/",
     "height": 379,
     "referenced_widgets": [
      "5eccd06909c34f5c85087e4353fc62bd",
      "e4ae8defa98949669041cd506588de7c",
      "debd41d784cf44299ee70b9949764319",
      "61caf4ca16cb43bcb0bdac9437291c92",
      "26e7a6a6fa71435c9cf9e73f7165b07a",
      "0bb65ffd06d84f01b606ac993877c373",
      "d278c250dc694114a897f7e2fa61ed6d",
      "4438ab322fe94d548836e3ae68a63a32",
      "718f836768d841faaf6aabcd30782356",
      "e0e51e33d4a94b01a148ba1673b64abd",
      "77e76647d0854a1b94c6db2abbb20dbb"
     ]
    },
    "executionInfo": {
     "elapsed": 12154,
     "status": "ok",
     "timestamp": 1633071996183,
     "user": {
      "displayName": "Nikita Ravi",
      "photoUrl": "https://lh3.googleusercontent.com/a/default-user=s64",
      "userId": "09027066114679546859"
     },
     "user_tz": 240
    },
    "id": "oobbO_pGhYbs",
    "outputId": "d6b6f9cd-9d2c-46fb-d9b7-54041828dcd2"
   },
   "outputs": [
    {
     "name": "stdout",
     "output_type": "stream",
     "text": [
      "Downloading https://www.cs.toronto.edu/~kriz/cifar-10-python.tar.gz to ./data/cifar-10-python.tar.gz\n"
     ]
    },
    {
     "data": {
      "application/vnd.jupyter.widget-view+json": {
       "model_id": "5eccd06909c34f5c85087e4353fc62bd",
       "version_major": 2,
       "version_minor": 0
      },
      "text/plain": [
       "  0%|          | 0/170498071 [00:00<?, ?it/s]"
      ]
     },
     "metadata": {},
     "output_type": "display_data"
    },
    {
     "name": "stdout",
     "output_type": "stream",
     "text": [
      "Extracting ./data/cifar-10-python.tar.gz to ./data\n",
      "Files already downloaded and verified\n"
     ]
    },
    {
     "data": {
      "image/png": "[encoded data removed]",
      "text/plain": [
       "<Figure size 432x288 with 9 Axes>"
      ]
     },
     "metadata": {
      "needs_background": "light"
     },
     "output_type": "display_data"
    }
   ],
   "source": [
    "# ----------- <Your code> ---------------\n",
    "%matplotlib inline\n",
    "\n",
    "transform = transforms.Compose([transforms.ToTensor(),\n",
    "                                transforms.Normalize((0.5, 0.5, 0.5), (0.5, 0.5, 0.5))])\n",
    "\n",
    "trainset = torchvision.datasets.CIFAR10(root='./data', train = True, download = True, transform = transform)\n",
    "train_loader = torch.utils.data.DataLoader(trainset, batch_size = 9, shuffle = True, num_workers = 2)\n",
    "\n",
    "testset = torchvision.datasets.CIFAR10(root='./data', train = False, download = True, transform = transform)\n",
    "test_loader = torch.utils.data.DataLoader(testset, batch_size = 9, shuffle = False, num_workers = 2)\n",
    "\n",
    "classes = ('plane', 'car', 'bird', 'cat', 'deer', 'dog', 'frog', 'horse', 'ship', 'truck')\n",
    "\n",
    "dataiter = iter(train_loader)\n",
    "images, labels = dataiter.next()\n",
    "\n",
    "fig, axs = plt.subplots(3,3)\n",
    "\n",
    "for i in range(3):\n",
    "  for j in range(3):\n",
    "    imshow(i, j, images[i*3 + j], classes[labels[i*3 + j].item()])\n",
    "\n",
    "fig.tight_layout()\n",
    "fig.show()"
   ]
  },
  {
   "cell_type": "markdown",
   "metadata": {
    "id": "f0FMDyDzijEG"
   },
   "source": [
    "### Task 2: Create CNN and train it\n",
    "Set up a convolutional neural network and have your data trained on it. You have to decide all the details in your network, overall your neural network should meet the following standards:\n",
    "\n",
    "\n",
    "*   You should not use more than three convolutional layers and three fully connected layers\n",
    "*   Accuracy on the test dataset should be **above** 50%\n",
    "\n"
   ]
  },
  {
   "cell_type": "code",
   "execution_count": null,
   "metadata": {
    "id": "cRuEf8tAlnsP"
   },
   "outputs": [],
   "source": [
    "# ----------- <Your code> ---------------\n",
    "# You should have your test accuracy printed in the output box\n",
    "\n",
    "class CNN(nn.Module):\n",
    "  def __init__(self):\n",
    "    super(CNN, self).__init__()\n",
    "    self.conv1 = nn.Conv2d(3, 6, kernel_size=5)\n",
    "    self.conv2 = nn.Conv2d(6, 16, kernel_size=5)\n",
    "    self.conv3 = nn.Conv2d(16, 32, kernel_size=5)\n",
    "    self.fc1 = nn.Linear(32 * 1 * 1, 120)\n",
    "    self.fc2 = nn.Linear(120, 84)\n",
    "    self.fc3 = nn.Linear(84, 10)\n",
    "    self.pool = nn.MaxPool2d(2,2)\n",
    "\n",
    "  def forward(self, x):\n",
    "    x = self.pool(F.relu(self.conv1(x)))\n",
    "    x = self.pool(F.relu(self.conv2(x)))\n",
    "    x = F.relu(self.conv3(x))\n",
    "    x = x.view(-1, 32 * 1 * 1)\n",
    "    x = F.relu(self.fc1(x))\n",
    "    x = F.relu(self.fc2(x))\n",
    "    x = F.relu(self.fc3(x))\n",
    "\n",
    "    return F.log_softmax(x,-1) "
   ]
  },
  {
   "cell_type": "code",
   "execution_count": null,
   "metadata": {
    "id": "1BcpQAhlrfeD"
   },
   "outputs": [],
   "source": [
    "cnn = CNN()\n",
    "optimizer = optim.SGD(cnn.parameters(), lr=0.01, momentum=0.8)"
   ]
  },
  {
   "cell_type": "code",
   "execution_count": null,
   "metadata": {
    "colab": {
     "base_uri": "https://localhost:8080/"
    },
    "executionInfo": {
     "elapsed": 140127,
     "status": "ok",
     "timestamp": 1633072142170,
     "user": {
      "displayName": "Nikita Ravi",
      "photoUrl": "https://lh3.googleusercontent.com/a/default-user=s64",
      "userId": "09027066114679546859"
     },
     "user_tz": 240
    },
    "id": "T6Z0p65B2Vql",
    "outputId": "9332813b-7e60-4292-8a89-7be567d33eec"
   },
   "outputs": [
    {
     "name": "stdout",
     "output_type": "stream",
     "text": [
      "Test result on epoch 1: Avg loss is 1.4813972724698483, Accuracy: 46.52000045776367%\n",
      "Test result on epoch 2: Avg loss is 1.3651119564292953, Accuracy: 51.41999816894531%\n",
      "Test result on epoch 3: Avg loss is 1.2748870805978776, Accuracy: 54.599998474121094%\n"
     ]
    }
   ],
   "source": [
    "test_losses = []\n",
    "test_counter = []\n",
    "max_epoch = 3\n",
    "\n",
    "for epoch in range(1, max_epoch+1):\n",
    "  train(cnn, epoch)\n",
    "  test(cnn, epoch)"
   ]
  },
  {
   "cell_type": "markdown",
   "metadata": {
    "id": "hS1mXr9Cl6pM"
   },
   "source": [
    "### Task 3: Plot misclassified test images\n",
    "Plot some misclassified images in your test dataset:\n",
    "\n",
    "*   select three images that are **misclassified** by your neural network\n",
    "*   label each images with true label and predicted label\n",
    "\n"
   ]
  },
  {
   "cell_type": "code",
   "execution_count": null,
   "metadata": {
    "colab": {
     "base_uri": "https://localhost:8080/",
     "height": 191
    },
    "executionInfo": {
     "elapsed": 7205,
     "status": "ok",
     "timestamp": 1633072153743,
     "user": {
      "displayName": "Nikita Ravi",
      "photoUrl": "https://lh3.googleusercontent.com/a/default-user=s64",
      "userId": "09027066114679546859"
     },
     "user_tz": 240
    },
    "id": "xd8vWof8nIHw",
    "outputId": "9ee30c83-a3bb-4d8c-a4c4-1c29b5d4b637"
   },
   "outputs": [
    {
     "name": "stdout",
     "output_type": "stream",
     "text": [
      "['ship', 'plane', 'cat']\n"
     ]
    },
    {
     "data": {
      "image/png": "[encoded data removed]",
      "text/plain": [
       "<Figure size 432x288 with 3 Axes>"
      ]
     },
     "metadata": {
      "needs_background": "light"
     },
     "output_type": "display_data"
    }
   ],
   "source": [
    "# ----------- <Your code> ---------------\n",
    "incorrect_images = []\n",
    "incorrect_class = []\n",
    "actual_label = []\n",
    "\n",
    "with torch.no_grad():\n",
    "  for data in test_loader:\n",
    "    images, labels = data\n",
    "    outputs = cnn(images)\n",
    "    _, predicted = torch.max(outputs.data, 1)\n",
    "    \n",
    "    for idx in range(len(labels)):\n",
    "      if(labels[idx] != predicted[idx]):\n",
    "        incorrect_images.append(images[idx])\n",
    "        incorrect_class.append(predicted[idx])\n",
    "        actual_label.append(labels[idx])\n",
    "\n",
    "\n",
    "fig, (ax1, ax2, ax3) = plt.subplots(1,3)\n",
    "\n",
    "def imshow(ax, img, label):\n",
    "  img = img / 2 + 0.5\n",
    "  ax.imshow(img.permute(1,2,0))\n",
    "  ax.set_title(label)\n",
    "\n",
    "imshow(ax1, incorrect_images[0], classes[incorrect_class[0].item()])\n",
    "imshow(ax2, incorrect_images[1], classes[incorrect_class[1].item()])\n",
    "imshow(ax3, incorrect_images[2], classes[incorrect_class[2].item()])\n",
    "\n",
    "print([classes[actual_label[i].item()] for i in range(3)])\n",
    "fig.tight_layout()\n",
    "fig.show()"
   ]
  },
  {
   "cell_type": "markdown",
   "metadata": {
    "id": "He_iV8FcfGR-"
   },
   "source": [
    "Questions (0 points): Are the mis-classified images also misleading to human eyes?"
   ]
  },
  {
   "cell_type": "markdown",
   "metadata": {
    "id": "INN54zXpTcZw"
   },
   "source": [
    "## Exercise 3: Transfer Learning (30 points)"
   ]
  },
  {
   "cell_type": "markdown",
   "metadata": {
    "id": "IgDHswfp0k7m"
   },
   "source": [
    "In practice, people won't train an entire CNN from scratch, because it is relatively rare to have a dataset of sufficient size (or sufficient computational power). Instead, it is common to pretrain a CNN on a very large dataset and then use the CNN either as an initialization or a fixed feature extractor for the task of interest.\n",
    "\n",
    "In this task, you will learn how to use a pretrained CNN for CIFAR-10 classification."
   ]
  },
  {
   "cell_type": "markdown",
   "metadata": {
    "id": "f21CjwoW8ty5"
   },
   "source": [
    "### Task1: Load pretrained model"
   ]
  },
  {
   "cell_type": "markdown",
   "metadata": {
    "id": "VZ-21Pv183TX"
   },
   "source": [
    "`torchvision.models` (https://pytorch.org/vision/stable/models.html) contains definitions of models for addressing different tasks, including: image classification, pixelwise semantic segmentation, object detection, instance segmentation, person keypoint detection and video classification.\n",
    "\n",
    "First, you should load the **pretrained** ResNet-18 that has already been trained on [ImageNet](https://www.image-net.org/) using `torchvision.models`. If you are interested in more details about Resnet-18, read this paper https://arxiv.org/pdf/1512.03385.pdf."
   ]
  },
  {
   "cell_type": "code",
   "execution_count": null,
   "metadata": {
    "id": "KaHP0VfAVuDY"
   },
   "outputs": [],
   "source": [
    "# ----------- <Your code> ---------------\n",
    "resnet18 = models.resnet18(pretrained = True)\n",
    "resnet18 = resnet18.to(device)"
   ]
  },
  {
   "cell_type": "markdown",
   "metadata": {
    "id": "MtQkZUZH84q8"
   },
   "source": [
    "### Task2: Create data loaders for CIFAR-10"
   ]
  },
  {
   "cell_type": "markdown",
   "metadata": {
    "id": "GTlRo-CJ4GQD"
   },
   "source": [
    "Then you need to create a dataloader of CIFAR-10. Note that the model you load has been trained on **ImageNet** and it expects inputs as mini-batches of 3-channel RGB images of shape (3 x H x W), where H and W are expected to be **at least** 224. So you need to preprocess the CIFAR-10 data to make sure it has a height and width. See [`torchvision.transforms.Resize`](https://pytorch.org/vision/stable/transforms.html#torchvision.transforms.Resize).\n",
    "You will probably want to add this transform appropriately to the `transform` you created in a previous task.\n"
   ]
  },
  {
   "cell_type": "code",
   "execution_count": null,
   "metadata": {
    "colab": {
     "base_uri": "https://localhost:8080/"
    },
    "executionInfo": {
     "elapsed": 2025,
     "status": "ok",
     "timestamp": 1633121739496,
     "user": {
      "displayName": "Nikita Ravi",
      "photoUrl": "https://lh3.googleusercontent.com/a/default-user=s64",
      "userId": "09027066114679546859"
     },
     "user_tz": 240
    },
    "id": "lhFys7OQV1Wj",
    "outputId": "4cd8a3c1-4a61-4471-d7dd-d6efeec117c4"
   },
   "outputs": [
    {
     "name": "stdout",
     "output_type": "stream",
     "text": [
      "Files already downloaded and verified\n",
      "Files already downloaded and verified\n"
     ]
    }
   ],
   "source": [
    "# ----------- <Your code> ---------------\n",
    "transform = transforms.Compose([transforms.ToTensor(),\n",
    "                                transforms.Normalize((0.5, 0.5, 0.5), (0.5, 0.5, 0.5)),\n",
    "                                transforms.Resize((224,224))])\n",
    "\n",
    "trainset = torchvision.datasets.CIFAR10(root='./data', train = True, download = True, transform = transform)\n",
    "train_loader = torch.utils.data.DataLoader(trainset, batch_size = 9, shuffle = True, num_workers = 2)\n",
    "\n",
    "testset = torchvision.datasets.CIFAR10(root='./data', train = False, download = True, transform = transform)\n",
    "test_loader = torch.utils.data.DataLoader(testset, batch_size = 9, shuffle = False, num_workers = 2)"
   ]
  },
  {
   "cell_type": "markdown",
   "metadata": {
    "id": "k8nR_aBi9Atb"
   },
   "source": [
    "### Task3: Classify test data on pretrained model"
   ]
  },
  {
   "cell_type": "markdown",
   "metadata": {
    "id": "N8IXXu-J9grR"
   },
   "source": [
    "Use the model you load to classify the **test** CIFAR-10 data and print out the test accuracy.\n",
    "\n",
    "Don't be surprised if the accuracy is bad!"
   ]
  },
  {
   "cell_type": "code",
   "execution_count": null,
   "metadata": {
    "id": "28wCwTnBeWxy"
   },
   "outputs": [],
   "source": [
    "def train(classifier, epoch, lr):\n",
    "  classifier.train()\n",
    "\n",
    "  for batch_idx, (images, targets) in enumerate(train_loader):\n",
    "    images = images.to(device)\n",
    "    targets = targets.to(device)\n",
    "    optimizer.zero_grad()\n",
    "    output = classifier(images)\n",
    "    loss = criterion(output, targets)\n",
    "    loss.backward()\n",
    "    optimizer.step()\n",
    "\n",
    "def test(classifier, epoch):\n",
    "  classifier.eval()\n",
    "  test_loss = 0\n",
    "  correct = 0\n",
    "\n",
    "  with torch.no_grad():\n",
    "    for images, targets in test_loader:\n",
    "      images = images.to(device)\n",
    "      targets = targets.to(device)\n",
    "      output = classifier(images)\n",
    "      test_loss += F.nll_loss(output, targets, reduction='sum').item()\n",
    "      prediction = output.data.max(1, keepdim=True)[1]\n",
    "      correct += prediction.eq(targets.data.view_as(prediction)).sum()\n",
    "  \n",
    "  test_loss /= len(test_loader.dataset)\n",
    "  test_losses.append(test_loss)\n",
    "  test_counter.append(len(train_loader.dataset)*epoch)\n",
    "\n",
    "  print(f'Test result on epoch {epoch}: Avg loss is {test_loss}, Accuracy: {100.*correct/len(test_loader.dataset)}%')"
   ]
  },
  {
   "cell_type": "code",
   "execution_count": null,
   "metadata": {
    "colab": {
     "base_uri": "https://localhost:8080/"
    },
    "executionInfo": {
     "elapsed": 129374,
     "status": "ok",
     "timestamp": 1633121869160,
     "user": {
      "displayName": "Nikita Ravi",
      "photoUrl": "https://lh3.googleusercontent.com/a/default-user=s64",
      "userId": "09027066114679546859"
     },
     "user_tz": 240
    },
    "id": "JOuCodyJ4FYp",
    "outputId": "adb31233-9b7f-40d8-8286-cf2dff02dfd7"
   },
   "outputs": [
    {
     "name": "stdout",
     "output_type": "stream",
     "text": [
      "Test result on epoch 1: Avg loss is 0.7757909239396453, Accuracy: 0.029999999329447746%\n",
      "Test result on epoch 2: Avg loss is 0.7757909239396453, Accuracy: 0.029999999329447746%\n",
      "Test result on epoch 3: Avg loss is 0.7757909239396453, Accuracy: 0.029999999329447746%\n"
     ]
    }
   ],
   "source": [
    "# ----------- <Your code> ---------------\n",
    "test_losses = []\n",
    "test_counter = []\n",
    "\n",
    "epoch = 3\n",
    "for i in range(1, epoch+1):\n",
    "  test(resnet18, i)"
   ]
  },
  {
   "cell_type": "markdown",
   "metadata": {
    "id": "ETLezHR0-ByE"
   },
   "source": [
    "### Task 4: Update model for CIFAR-10"
   ]
  },
  {
   "cell_type": "markdown",
   "metadata": {
    "id": "BbQrsL-U-Faq"
   },
   "source": [
    "Now try to improve the test accuracy. We offer several possible solutions:\n",
    "\n",
    "(1) You can try to directly continue to train the model you load with the CIFAR-10 training data. \n",
    "\n",
    "(2) For efficiency, you can try to freeze part of the parameters of the loaded models. For example, you can first freeze all parameters by\n",
    "\n",
    "```\n",
    "for param in model.parameters():\n",
    "    param.requires_grad = False\n",
    "```\n",
    "and then unfreeze the last few layers by setting `somelayer.requires_grad=True`.\n",
    "\n",
    "You are also welcome to try any other approach you can think of.\n",
    "\n",
    "\n",
    "**Note:** You should print out the test accuracy and to get full credits, the test accuracy should be at least **80%**."
   ]
  },
  {
   "cell_type": "code",
   "execution_count": null,
   "metadata": {
    "id": "qYHBP5fVfLZ0"
   },
   "outputs": [],
   "source": [
    "criterion = nn.CrossEntropyLoss()\n",
    "optimizer = optim.SGD(resnet18.parameters(), lr=0.01, momentum=0.8)"
   ]
  },
  {
   "cell_type": "code",
   "execution_count": null,
   "metadata": {
    "colab": {
     "base_uri": "https://localhost:8080/"
    },
    "executionInfo": {
     "elapsed": 586231,
     "status": "ok",
     "timestamp": 1633121643758,
     "user": {
      "displayName": "Nikita Ravi",
      "photoUrl": "https://lh3.googleusercontent.com/a/default-user=s64",
      "userId": "09027066114679546859"
     },
     "user_tz": 240
    },
    "id": "D2H2oDDyWv8t",
    "outputId": "dc1b4b69-66b1-4f75-e2ec-78284a003025"
   },
   "outputs": [
    {
     "name": "stdout",
     "output_type": "stream",
     "text": [
      "Test result on epoch 1: Avg loss is -24.695160543060304, Accuracy: 90.57999420166016%\n"
     ]
    }
   ],
   "source": [
    "# ----------- <Your code> ---------------\n",
    "test_losses = []\n",
    "test_counter = []\n",
    "\n",
    "epoch = 1\n",
    "for i in range(1, epoch+1):\n",
    "  train(resnet18, i, 0.01)\n",
    "  test(resnet18, i)"
   ]
  },
  {
   "cell_type": "code",
   "execution_count": null,
   "metadata": {
    "id": "rWy-N52Ss6Ow"
   },
   "outputs": [],
   "source": []
  }
 ],
 "metadata": {
  "accelerator": "GPU",
  "colab": {
   "collapsed_sections": [],
   "name": "Assignment_04_Exercise.ipynb",
   "provenance": []
  },
  "kernelspec": {
   "display_name": "Python 3",
   "language": "python",
   "name": "python3"
  },
  "language_info": {
   "codemirror_mode": {
    "name": "ipython",
    "version": 3
   },
   "file_extension": ".py",
   "mimetype": "text/x-python",
   "name": "python",
   "nbconvert_exporter": "python",
   "pygments_lexer": "ipython3",
   "version": "3.9.1"
  },
  "widgets": {
   "application/vnd.jupyter.widget-state+json": {
    "05911a2cdae34aca953eedd1d9d9248b": {
     "model_module": "@jupyter-widgets/controls",
     "model_module_version": "1.5.0",
     "model_name": "DescriptionStyleModel",
     "state": {
      "_model_module": "@jupyter-widgets/controls",
      "_model_module_version": "1.5.0",
      "_model_name": "DescriptionStyleModel",
      "_view_count": null,
      "_view_module": "@jupyter-widgets/base",
      "_view_module_version": "1.2.0",
      "_view_name": "StyleView",
      "description_width": ""
     }
    },
    "0646459317234c3bb5fe35f08bf2047f": {
     "model_module": "@jupyter-widgets/base",
     "model_module_version": "1.2.0",
     "model_name": "LayoutModel",
     "state": {
      "_model_module": "@jupyter-widgets/base",
      "_model_module_version": "1.2.0",
      "_model_name": "LayoutModel",
      "_view_count": null,
      "_view_module": "@jupyter-widgets/base",
      "_view_module_version": "1.2.0",
      "_view_name": "LayoutView",
      "align_content": null,
      "align_items": null,
      "align_self": null,
      "border": null,
      "bottom": null,
      "display": null,
      "flex": null,
      "flex_flow": null,
      "grid_area": null,
      "grid_auto_columns": null,
      "grid_auto_flow": null,
      "grid_auto_rows": null,
      "grid_column": null,
      "grid_gap": null,
      "grid_row": null,
      "grid_template_areas": null,
      "grid_template_columns": null,
      "grid_template_rows": null,
      "height": null,
      "justify_content": null,
      "justify_items": null,
      "left": null,
      "margin": null,
      "max_height": null,
      "max_width": null,
      "min_height": null,
      "min_width": null,
      "object_fit": null,
      "object_position": null,
      "order": null,
      "overflow": null,
      "overflow_x": null,
      "overflow_y": null,
      "padding": null,
      "right": null,
      "top": null,
      "visibility": null,
      "width": null
     }
    },
    "0900e21645f14342aee0c50f602fdae3": {
     "model_module": "@jupyter-widgets/base",
     "model_module_version": "1.2.0",
     "model_name": "LayoutModel",
     "state": {
      "_model_module": "@jupyter-widgets/base",
      "_model_module_version": "1.2.0",
      "_model_name": "LayoutModel",
      "_view_count": null,
      "_view_module": "@jupyter-widgets/base",
      "_view_module_version": "1.2.0",
      "_view_name": "LayoutView",
      "align_content": null,
      "align_items": null,
      "align_self": null,
      "border": null,
      "bottom": null,
      "display": null,
      "flex": null,
      "flex_flow": null,
      "grid_area": null,
      "grid_auto_columns": null,
      "grid_auto_flow": null,
      "grid_auto_rows": null,
      "grid_column": null,
      "grid_gap": null,
      "grid_row": null,
      "grid_template_areas": null,
      "grid_template_columns": null,
      "grid_template_rows": null,
      "height": null,
      "justify_content": null,
      "justify_items": null,
      "left": null,
      "margin": null,
      "max_height": null,
      "max_width": null,
      "min_height": null,
      "min_width": null,
      "object_fit": null,
      "object_position": null,
      "order": null,
      "overflow": null,
      "overflow_x": null,
      "overflow_y": null,
      "padding": null,
      "right": null,
      "top": null,
      "visibility": null,
      "width": null
     }
    },
    "0bb65ffd06d84f01b606ac993877c373": {
     "model_module": "@jupyter-widgets/controls",
     "model_module_version": "1.5.0",
     "model_name": "DescriptionStyleModel",
     "state": {
      "_model_module": "@jupyter-widgets/controls",
      "_model_module_version": "1.5.0",
      "_model_name": "DescriptionStyleModel",
      "_view_count": null,
      "_view_module": "@jupyter-widgets/base",
      "_view_module_version": "1.2.0",
      "_view_name": "StyleView",
      "description_width": ""
     }
    },
    "0d01881e2cef437782f79104777dad42": {
     "model_module": "@jupyter-widgets/base",
     "model_module_version": "1.2.0",
     "model_name": "LayoutModel",
     "state": {
      "_model_module": "@jupyter-widgets/base",
      "_model_module_version": "1.2.0",
      "_model_name": "LayoutModel",
      "_view_count": null,
      "_view_module": "@jupyter-widgets/base",
      "_view_module_version": "1.2.0",
      "_view_name": "LayoutView",
      "align_content": null,
      "align_items": null,
      "align_self": null,
      "border": null,
      "bottom": null,
      "display": null,
      "flex": null,
      "flex_flow": null,
      "grid_area": null,
      "grid_auto_columns": null,
      "grid_auto_flow": null,
      "grid_auto_rows": null,
      "grid_column": null,
      "grid_gap": null,
      "grid_row": null,
      "grid_template_areas": null,
      "grid_template_columns": null,
      "grid_template_rows": null,
      "height": null,
      "justify_content": null,
      "justify_items": null,
      "left": null,
      "margin": null,
      "max_height": null,
      "max_width": null,
      "min_height": null,
      "min_width": null,
      "object_fit": null,
      "object_position": null,
      "order": null,
      "overflow": null,
      "overflow_x": null,
      "overflow_y": null,
      "padding": null,
      "right": null,
      "top": null,
      "visibility": null,
      "width": null
     }
    },
    "12166cfd08d046db8f1ac372b0992564": {
     "model_module": "@jupyter-widgets/controls",
     "model_module_version": "1.5.0",
     "model_name": "HTMLModel",
     "state": {
      "_dom_classes": [],
      "_model_module": "@jupyter-widgets/controls",
      "_model_module_version": "1.5.0",
      "_model_name": "HTMLModel",
      "_view_count": null,
      "_view_module": "@jupyter-widgets/controls",
      "_view_module_version": "1.5.0",
      "_view_name": "HTMLView",
      "description": "",
      "description_tooltip": null,
      "layout": "IPY_MODEL_0900e21645f14342aee0c50f602fdae3",
      "placeholder": "​",
      "style": "IPY_MODEL_50999e4eaf524ca1b8ee2a1fc11a2cb5",
      "value": " 1649664/? [00:00&lt;00:00, 18694355.68it/s]"
     }
    },
    "168f1281361e4a07a236727f9a984d93": {
     "model_module": "@jupyter-widgets/controls",
     "model_module_version": "1.5.0",
     "model_name": "DescriptionStyleModel",
     "state": {
      "_model_module": "@jupyter-widgets/controls",
      "_model_module_version": "1.5.0",
      "_model_name": "DescriptionStyleModel",
      "_view_count": null,
      "_view_module": "@jupyter-widgets/base",
      "_view_module_version": "1.2.0",
      "_view_name": "StyleView",
      "description_width": ""
     }
    },
    "263365ba702e4ad892038835c949545f": {
     "model_module": "@jupyter-widgets/controls",
     "model_module_version": "1.5.0",
     "model_name": "ProgressStyleModel",
     "state": {
      "_model_module": "@jupyter-widgets/controls",
      "_model_module_version": "1.5.0",
      "_model_name": "ProgressStyleModel",
      "_view_count": null,
      "_view_module": "@jupyter-widgets/base",
      "_view_module_version": "1.2.0",
      "_view_name": "StyleView",
      "bar_color": null,
      "description_width": ""
     }
    },
    "26e53f8a4a784c03bc3c506f563a9c62": {
     "model_module": "@jupyter-widgets/controls",
     "model_module_version": "1.5.0",
     "model_name": "HBoxModel",
     "state": {
      "_dom_classes": [],
      "_model_module": "@jupyter-widgets/controls",
      "_model_module_version": "1.5.0",
      "_model_name": "HBoxModel",
      "_view_count": null,
      "_view_module": "@jupyter-widgets/controls",
      "_view_module_version": "1.5.0",
      "_view_name": "HBoxView",
      "box_style": "",
      "children": [
       "IPY_MODEL_8727865777b94d528e3b2fa4f016bc65",
       "IPY_MODEL_be225e5b86dd42329ac0504b1e16e68c",
       "IPY_MODEL_12166cfd08d046db8f1ac372b0992564"
      ],
      "layout": "IPY_MODEL_323219714d6341839264ef5a4ff3cb5d"
     }
    },
    "26e7a6a6fa71435c9cf9e73f7165b07a": {
     "model_module": "@jupyter-widgets/controls",
     "model_module_version": "1.5.0",
     "model_name": "HTMLModel",
     "state": {
      "_dom_classes": [],
      "_model_module": "@jupyter-widgets/controls",
      "_model_module_version": "1.5.0",
      "_model_name": "HTMLModel",
      "_view_count": null,
      "_view_module": "@jupyter-widgets/controls",
      "_view_module_version": "1.5.0",
      "_view_name": "HTMLView",
      "description": "",
      "description_tooltip": null,
      "layout": "IPY_MODEL_77e76647d0854a1b94c6db2abbb20dbb",
      "placeholder": "​",
      "style": "IPY_MODEL_e0e51e33d4a94b01a148ba1673b64abd",
      "value": " 170499072/? [00:06&lt;00:00, 32342282.20it/s]"
     }
    },
    "28bd0b8e957549edb9914fb639798848": {
     "model_module": "@jupyter-widgets/controls",
     "model_module_version": "1.5.0",
     "model_name": "FloatProgressModel",
     "state": {
      "_dom_classes": [],
      "_model_module": "@jupyter-widgets/controls",
      "_model_module_version": "1.5.0",
      "_model_name": "FloatProgressModel",
      "_view_count": null,
      "_view_module": "@jupyter-widgets/controls",
      "_view_module_version": "1.5.0",
      "_view_name": "ProgressView",
      "bar_style": "success",
      "description": "",
      "description_tooltip": null,
      "layout": "IPY_MODEL_3dad08d91add4e388b09f967da9664a3",
      "max": 4542,
      "min": 0,
      "orientation": "horizontal",
      "style": "IPY_MODEL_263365ba702e4ad892038835c949545f",
      "value": 4542
     }
    },
    "290c44c4518c4743827221e9a4b1ce3a": {
     "model_module": "@jupyter-widgets/base",
     "model_module_version": "1.2.0",
     "model_name": "LayoutModel",
     "state": {
      "_model_module": "@jupyter-widgets/base",
      "_model_module_version": "1.2.0",
      "_model_name": "LayoutModel",
      "_view_count": null,
      "_view_module": "@jupyter-widgets/base",
      "_view_module_version": "1.2.0",
      "_view_name": "LayoutView",
      "align_content": null,
      "align_items": null,
      "align_self": null,
      "border": null,
      "bottom": null,
      "display": null,
      "flex": null,
      "flex_flow": null,
      "grid_area": null,
      "grid_auto_columns": null,
      "grid_auto_flow": null,
      "grid_auto_rows": null,
      "grid_column": null,
      "grid_gap": null,
      "grid_row": null,
      "grid_template_areas": null,
      "grid_template_columns": null,
      "grid_template_rows": null,
      "height": null,
      "justify_content": null,
      "justify_items": null,
      "left": null,
      "margin": null,
      "max_height": null,
      "max_width": null,
      "min_height": null,
      "min_width": null,
      "object_fit": null,
      "object_position": null,
      "order": null,
      "overflow": null,
      "overflow_x": null,
      "overflow_y": null,
      "padding": null,
      "right": null,
      "top": null,
      "visibility": null,
      "width": null
     }
    },
    "2eac60182d39419dad5000dfb02db07f": {
     "model_module": "@jupyter-widgets/controls",
     "model_module_version": "1.5.0",
     "model_name": "FloatProgressModel",
     "state": {
      "_dom_classes": [],
      "_model_module": "@jupyter-widgets/controls",
      "_model_module_version": "1.5.0",
      "_model_name": "FloatProgressModel",
      "_view_count": null,
      "_view_module": "@jupyter-widgets/controls",
      "_view_module_version": "1.5.0",
      "_view_name": "ProgressView",
      "bar_style": "success",
      "description": "",
      "description_tooltip": null,
      "layout": "IPY_MODEL_3633729d0730413db921ce70b550b765",
      "max": 9912422,
      "min": 0,
      "orientation": "horizontal",
      "style": "IPY_MODEL_a3fa51b82d8544aba6f252369ecdce36",
      "value": 9912422
     }
    },
    "3133445fdd174eff887690cb8ca3dce3": {
     "model_module": "@jupyter-widgets/controls",
     "model_module_version": "1.5.0",
     "model_name": "HBoxModel",
     "state": {
      "_dom_classes": [],
      "_model_module": "@jupyter-widgets/controls",
      "_model_module_version": "1.5.0",
      "_model_name": "HBoxModel",
      "_view_count": null,
      "_view_module": "@jupyter-widgets/controls",
      "_view_module_version": "1.5.0",
      "_view_name": "HBoxView",
      "box_style": "",
      "children": [
       "IPY_MODEL_c6975f0999aa49ba92c7cb99173a87f4",
       "IPY_MODEL_28bd0b8e957549edb9914fb639798848",
       "IPY_MODEL_b26bfc031eb94afcb184a6ddd70402bd"
      ],
      "layout": "IPY_MODEL_0646459317234c3bb5fe35f08bf2047f"
     }
    },
    "323219714d6341839264ef5a4ff3cb5d": {
     "model_module": "@jupyter-widgets/base",
     "model_module_version": "1.2.0",
     "model_name": "LayoutModel",
     "state": {
      "_model_module": "@jupyter-widgets/base",
      "_model_module_version": "1.2.0",
      "_model_name": "LayoutModel",
      "_view_count": null,
      "_view_module": "@jupyter-widgets/base",
      "_view_module_version": "1.2.0",
      "_view_name": "LayoutView",
      "align_content": null,
      "align_items": null,
      "align_self": null,
      "border": null,
      "bottom": null,
      "display": null,
      "flex": null,
      "flex_flow": null,
      "grid_area": null,
      "grid_auto_columns": null,
      "grid_auto_flow": null,
      "grid_auto_rows": null,
      "grid_column": null,
      "grid_gap": null,
      "grid_row": null,
      "grid_template_areas": null,
      "grid_template_columns": null,
      "grid_template_rows": null,
      "height": null,
      "justify_content": null,
      "justify_items": null,
      "left": null,
      "margin": null,
      "max_height": null,
      "max_width": null,
      "min_height": null,
      "min_width": null,
      "object_fit": null,
      "object_position": null,
      "order": null,
      "overflow": null,
      "overflow_x": null,
      "overflow_y": null,
      "padding": null,
      "right": null,
      "top": null,
      "visibility": null,
      "width": null
     }
    },
    "3633729d0730413db921ce70b550b765": {
     "model_module": "@jupyter-widgets/base",
     "model_module_version": "1.2.0",
     "model_name": "LayoutModel",
     "state": {
      "_model_module": "@jupyter-widgets/base",
      "_model_module_version": "1.2.0",
      "_model_name": "LayoutModel",
      "_view_count": null,
      "_view_module": "@jupyter-widgets/base",
      "_view_module_version": "1.2.0",
      "_view_name": "LayoutView",
      "align_content": null,
      "align_items": null,
      "align_self": null,
      "border": null,
      "bottom": null,
      "display": null,
      "flex": null,
      "flex_flow": null,
      "grid_area": null,
      "grid_auto_columns": null,
      "grid_auto_flow": null,
      "grid_auto_rows": null,
      "grid_column": null,
      "grid_gap": null,
      "grid_row": null,
      "grid_template_areas": null,
      "grid_template_columns": null,
      "grid_template_rows": null,
      "height": null,
      "justify_content": null,
      "justify_items": null,
      "left": null,
      "margin": null,
      "max_height": null,
      "max_width": null,
      "min_height": null,
      "min_width": null,
      "object_fit": null,
      "object_position": null,
      "order": null,
      "overflow": null,
      "overflow_x": null,
      "overflow_y": null,
      "padding": null,
      "right": null,
      "top": null,
      "visibility": null,
      "width": null
     }
    },
    "3dad08d91add4e388b09f967da9664a3": {
     "model_module": "@jupyter-widgets/base",
     "model_module_version": "1.2.0",
     "model_name": "LayoutModel",
     "state": {
      "_model_module": "@jupyter-widgets/base",
      "_model_module_version": "1.2.0",
      "_model_name": "LayoutModel",
      "_view_count": null,
      "_view_module": "@jupyter-widgets/base",
      "_view_module_version": "1.2.0",
      "_view_name": "LayoutView",
      "align_content": null,
      "align_items": null,
      "align_self": null,
      "border": null,
      "bottom": null,
      "display": null,
      "flex": null,
      "flex_flow": null,
      "grid_area": null,
      "grid_auto_columns": null,
      "grid_auto_flow": null,
      "grid_auto_rows": null,
      "grid_column": null,
      "grid_gap": null,
      "grid_row": null,
      "grid_template_areas": null,
      "grid_template_columns": null,
      "grid_template_rows": null,
      "height": null,
      "justify_content": null,
      "justify_items": null,
      "left": null,
      "margin": null,
      "max_height": null,
      "max_width": null,
      "min_height": null,
      "min_width": null,
      "object_fit": null,
      "object_position": null,
      "order": null,
      "overflow": null,
      "overflow_x": null,
      "overflow_y": null,
      "padding": null,
      "right": null,
      "top": null,
      "visibility": null,
      "width": null
     }
    },
    "4369486704304952bd760b071c5e2aae": {
     "model_module": "@jupyter-widgets/base",
     "model_module_version": "1.2.0",
     "model_name": "LayoutModel",
     "state": {
      "_model_module": "@jupyter-widgets/base",
      "_model_module_version": "1.2.0",
      "_model_name": "LayoutModel",
      "_view_count": null,
      "_view_module": "@jupyter-widgets/base",
      "_view_module_version": "1.2.0",
      "_view_name": "LayoutView",
      "align_content": null,
      "align_items": null,
      "align_self": null,
      "border": null,
      "bottom": null,
      "display": null,
      "flex": null,
      "flex_flow": null,
      "grid_area": null,
      "grid_auto_columns": null,
      "grid_auto_flow": null,
      "grid_auto_rows": null,
      "grid_column": null,
      "grid_gap": null,
      "grid_row": null,
      "grid_template_areas": null,
      "grid_template_columns": null,
      "grid_template_rows": null,
      "height": null,
      "justify_content": null,
      "justify_items": null,
      "left": null,
      "margin": null,
      "max_height": null,
      "max_width": null,
      "min_height": null,
      "min_width": null,
      "object_fit": null,
      "object_position": null,
      "order": null,
      "overflow": null,
      "overflow_x": null,
      "overflow_y": null,
      "padding": null,
      "right": null,
      "top": null,
      "visibility": null,
      "width": null
     }
    },
    "4438ab322fe94d548836e3ae68a63a32": {
     "model_module": "@jupyter-widgets/controls",
     "model_module_version": "1.5.0",
     "model_name": "ProgressStyleModel",
     "state": {
      "_model_module": "@jupyter-widgets/controls",
      "_model_module_version": "1.5.0",
      "_model_name": "ProgressStyleModel",
      "_view_count": null,
      "_view_module": "@jupyter-widgets/base",
      "_view_module_version": "1.2.0",
      "_view_name": "StyleView",
      "bar_color": null,
      "description_width": ""
     }
    },
    "50999e4eaf524ca1b8ee2a1fc11a2cb5": {
     "model_module": "@jupyter-widgets/controls",
     "model_module_version": "1.5.0",
     "model_name": "DescriptionStyleModel",
     "state": {
      "_model_module": "@jupyter-widgets/controls",
      "_model_module_version": "1.5.0",
      "_model_name": "DescriptionStyleModel",
      "_view_count": null,
      "_view_module": "@jupyter-widgets/base",
      "_view_module_version": "1.2.0",
      "_view_name": "StyleView",
      "description_width": ""
     }
    },
    "5c8a757917324e289369844d5c03b84a": {
     "model_module": "@jupyter-widgets/controls",
     "model_module_version": "1.5.0",
     "model_name": "HTMLModel",
     "state": {
      "_dom_classes": [],
      "_model_module": "@jupyter-widgets/controls",
      "_model_module_version": "1.5.0",
      "_model_name": "HTMLModel",
      "_view_count": null,
      "_view_module": "@jupyter-widgets/controls",
      "_view_module_version": "1.5.0",
      "_view_name": "HTMLView",
      "description": "",
      "description_tooltip": null,
      "layout": "IPY_MODEL_85dcfcd086d94d66b8444ff07b4857fa",
      "placeholder": "​",
      "style": "IPY_MODEL_e8209128f1994bd2a00d2243842af842",
      "value": " 9913344/? [00:00&lt;00:00, 22379241.32it/s]"
     }
    },
    "5d8845d272804d3b9b5747b9703cdf3e": {
     "model_module": "@jupyter-widgets/base",
     "model_module_version": "1.2.0",
     "model_name": "LayoutModel",
     "state": {
      "_model_module": "@jupyter-widgets/base",
      "_model_module_version": "1.2.0",
      "_model_name": "LayoutModel",
      "_view_count": null,
      "_view_module": "@jupyter-widgets/base",
      "_view_module_version": "1.2.0",
      "_view_name": "LayoutView",
      "align_content": null,
      "align_items": null,
      "align_self": null,
      "border": null,
      "bottom": null,
      "display": null,
      "flex": null,
      "flex_flow": null,
      "grid_area": null,
      "grid_auto_columns": null,
      "grid_auto_flow": null,
      "grid_auto_rows": null,
      "grid_column": null,
      "grid_gap": null,
      "grid_row": null,
      "grid_template_areas": null,
      "grid_template_columns": null,
      "grid_template_rows": null,
      "height": null,
      "justify_content": null,
      "justify_items": null,
      "left": null,
      "margin": null,
      "max_height": null,
      "max_width": null,
      "min_height": null,
      "min_width": null,
      "object_fit": null,
      "object_position": null,
      "order": null,
      "overflow": null,
      "overflow_x": null,
      "overflow_y": null,
      "padding": null,
      "right": null,
      "top": null,
      "visibility": null,
      "width": null
     }
    },
    "5eccd06909c34f5c85087e4353fc62bd": {
     "model_module": "@jupyter-widgets/controls",
     "model_module_version": "1.5.0",
     "model_name": "HBoxModel",
     "state": {
      "_dom_classes": [],
      "_model_module": "@jupyter-widgets/controls",
      "_model_module_version": "1.5.0",
      "_model_name": "HBoxModel",
      "_view_count": null,
      "_view_module": "@jupyter-widgets/controls",
      "_view_module_version": "1.5.0",
      "_view_name": "HBoxView",
      "box_style": "",
      "children": [
       "IPY_MODEL_debd41d784cf44299ee70b9949764319",
       "IPY_MODEL_61caf4ca16cb43bcb0bdac9437291c92",
       "IPY_MODEL_26e7a6a6fa71435c9cf9e73f7165b07a"
      ],
      "layout": "IPY_MODEL_e4ae8defa98949669041cd506588de7c"
     }
    },
    "61caf4ca16cb43bcb0bdac9437291c92": {
     "model_module": "@jupyter-widgets/controls",
     "model_module_version": "1.5.0",
     "model_name": "FloatProgressModel",
     "state": {
      "_dom_classes": [],
      "_model_module": "@jupyter-widgets/controls",
      "_model_module_version": "1.5.0",
      "_model_name": "FloatProgressModel",
      "_view_count": null,
      "_view_module": "@jupyter-widgets/controls",
      "_view_module_version": "1.5.0",
      "_view_name": "ProgressView",
      "bar_style": "success",
      "description": "",
      "description_tooltip": null,
      "layout": "IPY_MODEL_718f836768d841faaf6aabcd30782356",
      "max": 170498071,
      "min": 0,
      "orientation": "horizontal",
      "style": "IPY_MODEL_4438ab322fe94d548836e3ae68a63a32",
      "value": 170498071
     }
    },
    "64066dcab25340d2a25dfaec0821dd90": {
     "model_module": "@jupyter-widgets/base",
     "model_module_version": "1.2.0",
     "model_name": "LayoutModel",
     "state": {
      "_model_module": "@jupyter-widgets/base",
      "_model_module_version": "1.2.0",
      "_model_name": "LayoutModel",
      "_view_count": null,
      "_view_module": "@jupyter-widgets/base",
      "_view_module_version": "1.2.0",
      "_view_name": "LayoutView",
      "align_content": null,
      "align_items": null,
      "align_self": null,
      "border": null,
      "bottom": null,
      "display": null,
      "flex": null,
      "flex_flow": null,
      "grid_area": null,
      "grid_auto_columns": null,
      "grid_auto_flow": null,
      "grid_auto_rows": null,
      "grid_column": null,
      "grid_gap": null,
      "grid_row": null,
      "grid_template_areas": null,
      "grid_template_columns": null,
      "grid_template_rows": null,
      "height": null,
      "justify_content": null,
      "justify_items": null,
      "left": null,
      "margin": null,
      "max_height": null,
      "max_width": null,
      "min_height": null,
      "min_width": null,
      "object_fit": null,
      "object_position": null,
      "order": null,
      "overflow": null,
      "overflow_x": null,
      "overflow_y": null,
      "padding": null,
      "right": null,
      "top": null,
      "visibility": null,
      "width": null
     }
    },
    "68d1a56997d547d9bce4f995b91608dd": {
     "model_module": "@jupyter-widgets/controls",
     "model_module_version": "1.5.0",
     "model_name": "HBoxModel",
     "state": {
      "_dom_classes": [],
      "_model_module": "@jupyter-widgets/controls",
      "_model_module_version": "1.5.0",
      "_model_name": "HBoxModel",
      "_view_count": null,
      "_view_module": "@jupyter-widgets/controls",
      "_view_module_version": "1.5.0",
      "_view_name": "HBoxView",
      "box_style": "",
      "children": [
       "IPY_MODEL_7192c09a77f6439782002b0bee5befd5",
       "IPY_MODEL_2eac60182d39419dad5000dfb02db07f",
       "IPY_MODEL_5c8a757917324e289369844d5c03b84a"
      ],
      "layout": "IPY_MODEL_4369486704304952bd760b071c5e2aae"
     }
    },
    "6b3cb8d776154e00b544394218539f06": {
     "model_module": "@jupyter-widgets/controls",
     "model_module_version": "1.5.0",
     "model_name": "HBoxModel",
     "state": {
      "_dom_classes": [],
      "_model_module": "@jupyter-widgets/controls",
      "_model_module_version": "1.5.0",
      "_model_name": "HBoxModel",
      "_view_count": null,
      "_view_module": "@jupyter-widgets/controls",
      "_view_module_version": "1.5.0",
      "_view_name": "HBoxView",
      "box_style": "",
      "children": [
       "IPY_MODEL_fbd2885a02f34b13841e061dab329736",
       "IPY_MODEL_b56dcb6fc461489883c7873cf9f432c6",
       "IPY_MODEL_da61d6356b664b49bfb77b34619d90da"
      ],
      "layout": "IPY_MODEL_5d8845d272804d3b9b5747b9703cdf3e"
     }
    },
    "6d6c9f87df05404a9b180c560d66902e": {
     "model_module": "@jupyter-widgets/controls",
     "model_module_version": "1.5.0",
     "model_name": "DescriptionStyleModel",
     "state": {
      "_model_module": "@jupyter-widgets/controls",
      "_model_module_version": "1.5.0",
      "_model_name": "DescriptionStyleModel",
      "_view_count": null,
      "_view_module": "@jupyter-widgets/base",
      "_view_module_version": "1.2.0",
      "_view_name": "StyleView",
      "description_width": ""
     }
    },
    "718f836768d841faaf6aabcd30782356": {
     "model_module": "@jupyter-widgets/base",
     "model_module_version": "1.2.0",
     "model_name": "LayoutModel",
     "state": {
      "_model_module": "@jupyter-widgets/base",
      "_model_module_version": "1.2.0",
      "_model_name": "LayoutModel",
      "_view_count": null,
      "_view_module": "@jupyter-widgets/base",
      "_view_module_version": "1.2.0",
      "_view_name": "LayoutView",
      "align_content": null,
      "align_items": null,
      "align_self": null,
      "border": null,
      "bottom": null,
      "display": null,
      "flex": null,
      "flex_flow": null,
      "grid_area": null,
      "grid_auto_columns": null,
      "grid_auto_flow": null,
      "grid_auto_rows": null,
      "grid_column": null,
      "grid_gap": null,
      "grid_row": null,
      "grid_template_areas": null,
      "grid_template_columns": null,
      "grid_template_rows": null,
      "height": null,
      "justify_content": null,
      "justify_items": null,
      "left": null,
      "margin": null,
      "max_height": null,
      "max_width": null,
      "min_height": null,
      "min_width": null,
      "object_fit": null,
      "object_position": null,
      "order": null,
      "overflow": null,
      "overflow_x": null,
      "overflow_y": null,
      "padding": null,
      "right": null,
      "top": null,
      "visibility": null,
      "width": null
     }
    },
    "7192c09a77f6439782002b0bee5befd5": {
     "model_module": "@jupyter-widgets/controls",
     "model_module_version": "1.5.0",
     "model_name": "HTMLModel",
     "state": {
      "_dom_classes": [],
      "_model_module": "@jupyter-widgets/controls",
      "_model_module_version": "1.5.0",
      "_model_name": "HTMLModel",
      "_view_count": null,
      "_view_module": "@jupyter-widgets/controls",
      "_view_module_version": "1.5.0",
      "_view_name": "HTMLView",
      "description": "",
      "description_tooltip": null,
      "layout": "IPY_MODEL_dbbf207ec21c4119a883641adfd8b160",
      "placeholder": "​",
      "style": "IPY_MODEL_05911a2cdae34aca953eedd1d9d9248b",
      "value": ""
     }
    },
    "77e76647d0854a1b94c6db2abbb20dbb": {
     "model_module": "@jupyter-widgets/base",
     "model_module_version": "1.2.0",
     "model_name": "LayoutModel",
     "state": {
      "_model_module": "@jupyter-widgets/base",
      "_model_module_version": "1.2.0",
      "_model_name": "LayoutModel",
      "_view_count": null,
      "_view_module": "@jupyter-widgets/base",
      "_view_module_version": "1.2.0",
      "_view_name": "LayoutView",
      "align_content": null,
      "align_items": null,
      "align_self": null,
      "border": null,
      "bottom": null,
      "display": null,
      "flex": null,
      "flex_flow": null,
      "grid_area": null,
      "grid_auto_columns": null,
      "grid_auto_flow": null,
      "grid_auto_rows": null,
      "grid_column": null,
      "grid_gap": null,
      "grid_row": null,
      "grid_template_areas": null,
      "grid_template_columns": null,
      "grid_template_rows": null,
      "height": null,
      "justify_content": null,
      "justify_items": null,
      "left": null,
      "margin": null,
      "max_height": null,
      "max_width": null,
      "min_height": null,
      "min_width": null,
      "object_fit": null,
      "object_position": null,
      "order": null,
      "overflow": null,
      "overflow_x": null,
      "overflow_y": null,
      "padding": null,
      "right": null,
      "top": null,
      "visibility": null,
      "width": null
     }
    },
    "793401bd4c564e2ca57466d7497d7a26": {
     "model_module": "@jupyter-widgets/controls",
     "model_module_version": "1.5.0",
     "model_name": "ProgressStyleModel",
     "state": {
      "_model_module": "@jupyter-widgets/controls",
      "_model_module_version": "1.5.0",
      "_model_name": "ProgressStyleModel",
      "_view_count": null,
      "_view_module": "@jupyter-widgets/base",
      "_view_module_version": "1.2.0",
      "_view_name": "StyleView",
      "bar_color": null,
      "description_width": ""
     }
    },
    "85dcfcd086d94d66b8444ff07b4857fa": {
     "model_module": "@jupyter-widgets/base",
     "model_module_version": "1.2.0",
     "model_name": "LayoutModel",
     "state": {
      "_model_module": "@jupyter-widgets/base",
      "_model_module_version": "1.2.0",
      "_model_name": "LayoutModel",
      "_view_count": null,
      "_view_module": "@jupyter-widgets/base",
      "_view_module_version": "1.2.0",
      "_view_name": "LayoutView",
      "align_content": null,
      "align_items": null,
      "align_self": null,
      "border": null,
      "bottom": null,
      "display": null,
      "flex": null,
      "flex_flow": null,
      "grid_area": null,
      "grid_auto_columns": null,
      "grid_auto_flow": null,
      "grid_auto_rows": null,
      "grid_column": null,
      "grid_gap": null,
      "grid_row": null,
      "grid_template_areas": null,
      "grid_template_columns": null,
      "grid_template_rows": null,
      "height": null,
      "justify_content": null,
      "justify_items": null,
      "left": null,
      "margin": null,
      "max_height": null,
      "max_width": null,
      "min_height": null,
      "min_width": null,
      "object_fit": null,
      "object_position": null,
      "order": null,
      "overflow": null,
      "overflow_x": null,
      "overflow_y": null,
      "padding": null,
      "right": null,
      "top": null,
      "visibility": null,
      "width": null
     }
    },
    "8727865777b94d528e3b2fa4f016bc65": {
     "model_module": "@jupyter-widgets/controls",
     "model_module_version": "1.5.0",
     "model_name": "HTMLModel",
     "state": {
      "_dom_classes": [],
      "_model_module": "@jupyter-widgets/controls",
      "_model_module_version": "1.5.0",
      "_model_name": "HTMLModel",
      "_view_count": null,
      "_view_module": "@jupyter-widgets/controls",
      "_view_module_version": "1.5.0",
      "_view_name": "HTMLView",
      "description": "",
      "description_tooltip": null,
      "layout": "IPY_MODEL_b2dade9886b040cca984aa4e9e51529f",
      "placeholder": "​",
      "style": "IPY_MODEL_168f1281361e4a07a236727f9a984d93",
      "value": ""
     }
    },
    "a0722848782a45fe8e92bb47f0be342e": {
     "model_module": "@jupyter-widgets/base",
     "model_module_version": "1.2.0",
     "model_name": "LayoutModel",
     "state": {
      "_model_module": "@jupyter-widgets/base",
      "_model_module_version": "1.2.0",
      "_model_name": "LayoutModel",
      "_view_count": null,
      "_view_module": "@jupyter-widgets/base",
      "_view_module_version": "1.2.0",
      "_view_name": "LayoutView",
      "align_content": null,
      "align_items": null,
      "align_self": null,
      "border": null,
      "bottom": null,
      "display": null,
      "flex": null,
      "flex_flow": null,
      "grid_area": null,
      "grid_auto_columns": null,
      "grid_auto_flow": null,
      "grid_auto_rows": null,
      "grid_column": null,
      "grid_gap": null,
      "grid_row": null,
      "grid_template_areas": null,
      "grid_template_columns": null,
      "grid_template_rows": null,
      "height": null,
      "justify_content": null,
      "justify_items": null,
      "left": null,
      "margin": null,
      "max_height": null,
      "max_width": null,
      "min_height": null,
      "min_width": null,
      "object_fit": null,
      "object_position": null,
      "order": null,
      "overflow": null,
      "overflow_x": null,
      "overflow_y": null,
      "padding": null,
      "right": null,
      "top": null,
      "visibility": null,
      "width": null
     }
    },
    "a3fa51b82d8544aba6f252369ecdce36": {
     "model_module": "@jupyter-widgets/controls",
     "model_module_version": "1.5.0",
     "model_name": "ProgressStyleModel",
     "state": {
      "_model_module": "@jupyter-widgets/controls",
      "_model_module_version": "1.5.0",
      "_model_name": "ProgressStyleModel",
      "_view_count": null,
      "_view_module": "@jupyter-widgets/base",
      "_view_module_version": "1.2.0",
      "_view_name": "StyleView",
      "bar_color": null,
      "description_width": ""
     }
    },
    "b26bfc031eb94afcb184a6ddd70402bd": {
     "model_module": "@jupyter-widgets/controls",
     "model_module_version": "1.5.0",
     "model_name": "HTMLModel",
     "state": {
      "_dom_classes": [],
      "_model_module": "@jupyter-widgets/controls",
      "_model_module_version": "1.5.0",
      "_model_name": "HTMLModel",
      "_view_count": null,
      "_view_module": "@jupyter-widgets/controls",
      "_view_module_version": "1.5.0",
      "_view_name": "HTMLView",
      "description": "",
      "description_tooltip": null,
      "layout": "IPY_MODEL_bd521233464b431ca711f0f614540b50",
      "placeholder": "​",
      "style": "IPY_MODEL_6d6c9f87df05404a9b180c560d66902e",
      "value": " 5120/? [00:00&lt;00:00, 84898.90it/s]"
     }
    },
    "b2dade9886b040cca984aa4e9e51529f": {
     "model_module": "@jupyter-widgets/base",
     "model_module_version": "1.2.0",
     "model_name": "LayoutModel",
     "state": {
      "_model_module": "@jupyter-widgets/base",
      "_model_module_version": "1.2.0",
      "_model_name": "LayoutModel",
      "_view_count": null,
      "_view_module": "@jupyter-widgets/base",
      "_view_module_version": "1.2.0",
      "_view_name": "LayoutView",
      "align_content": null,
      "align_items": null,
      "align_self": null,
      "border": null,
      "bottom": null,
      "display": null,
      "flex": null,
      "flex_flow": null,
      "grid_area": null,
      "grid_auto_columns": null,
      "grid_auto_flow": null,
      "grid_auto_rows": null,
      "grid_column": null,
      "grid_gap": null,
      "grid_row": null,
      "grid_template_areas": null,
      "grid_template_columns": null,
      "grid_template_rows": null,
      "height": null,
      "justify_content": null,
      "justify_items": null,
      "left": null,
      "margin": null,
      "max_height": null,
      "max_width": null,
      "min_height": null,
      "min_width": null,
      "object_fit": null,
      "object_position": null,
      "order": null,
      "overflow": null,
      "overflow_x": null,
      "overflow_y": null,
      "padding": null,
      "right": null,
      "top": null,
      "visibility": null,
      "width": null
     }
    },
    "b56dcb6fc461489883c7873cf9f432c6": {
     "model_module": "@jupyter-widgets/controls",
     "model_module_version": "1.5.0",
     "model_name": "FloatProgressModel",
     "state": {
      "_dom_classes": [],
      "_model_module": "@jupyter-widgets/controls",
      "_model_module_version": "1.5.0",
      "_model_name": "FloatProgressModel",
      "_view_count": null,
      "_view_module": "@jupyter-widgets/controls",
      "_view_module_version": "1.5.0",
      "_view_name": "ProgressView",
      "bar_style": "success",
      "description": "",
      "description_tooltip": null,
      "layout": "IPY_MODEL_d3d99fe19f9e4e9abfc65a7ef9183eeb",
      "max": 28881,
      "min": 0,
      "orientation": "horizontal",
      "style": "IPY_MODEL_793401bd4c564e2ca57466d7497d7a26",
      "value": 28881
     }
    },
    "bc69fb3966c147d38426e8fbe9dffab4": {
     "model_module": "@jupyter-widgets/controls",
     "model_module_version": "1.5.0",
     "model_name": "DescriptionStyleModel",
     "state": {
      "_model_module": "@jupyter-widgets/controls",
      "_model_module_version": "1.5.0",
      "_model_name": "DescriptionStyleModel",
      "_view_count": null,
      "_view_module": "@jupyter-widgets/base",
      "_view_module_version": "1.2.0",
      "_view_name": "StyleView",
      "description_width": ""
     }
    },
    "bd521233464b431ca711f0f614540b50": {
     "model_module": "@jupyter-widgets/base",
     "model_module_version": "1.2.0",
     "model_name": "LayoutModel",
     "state": {
      "_model_module": "@jupyter-widgets/base",
      "_model_module_version": "1.2.0",
      "_model_name": "LayoutModel",
      "_view_count": null,
      "_view_module": "@jupyter-widgets/base",
      "_view_module_version": "1.2.0",
      "_view_name": "LayoutView",
      "align_content": null,
      "align_items": null,
      "align_self": null,
      "border": null,
      "bottom": null,
      "display": null,
      "flex": null,
      "flex_flow": null,
      "grid_area": null,
      "grid_auto_columns": null,
      "grid_auto_flow": null,
      "grid_auto_rows": null,
      "grid_column": null,
      "grid_gap": null,
      "grid_row": null,
      "grid_template_areas": null,
      "grid_template_columns": null,
      "grid_template_rows": null,
      "height": null,
      "justify_content": null,
      "justify_items": null,
      "left": null,
      "margin": null,
      "max_height": null,
      "max_width": null,
      "min_height": null,
      "min_width": null,
      "object_fit": null,
      "object_position": null,
      "order": null,
      "overflow": null,
      "overflow_x": null,
      "overflow_y": null,
      "padding": null,
      "right": null,
      "top": null,
      "visibility": null,
      "width": null
     }
    },
    "be225e5b86dd42329ac0504b1e16e68c": {
     "model_module": "@jupyter-widgets/controls",
     "model_module_version": "1.5.0",
     "model_name": "FloatProgressModel",
     "state": {
      "_dom_classes": [],
      "_model_module": "@jupyter-widgets/controls",
      "_model_module_version": "1.5.0",
      "_model_name": "FloatProgressModel",
      "_view_count": null,
      "_view_module": "@jupyter-widgets/controls",
      "_view_module_version": "1.5.0",
      "_view_name": "ProgressView",
      "bar_style": "success",
      "description": "",
      "description_tooltip": null,
      "layout": "IPY_MODEL_a0722848782a45fe8e92bb47f0be342e",
      "max": 1648877,
      "min": 0,
      "orientation": "horizontal",
      "style": "IPY_MODEL_d37a7ba70cdb4335bb0eb1f119c74622",
      "value": 1648877
     }
    },
    "c6975f0999aa49ba92c7cb99173a87f4": {
     "model_module": "@jupyter-widgets/controls",
     "model_module_version": "1.5.0",
     "model_name": "HTMLModel",
     "state": {
      "_dom_classes": [],
      "_model_module": "@jupyter-widgets/controls",
      "_model_module_version": "1.5.0",
      "_model_name": "HTMLModel",
      "_view_count": null,
      "_view_module": "@jupyter-widgets/controls",
      "_view_module_version": "1.5.0",
      "_view_name": "HTMLView",
      "description": "",
      "description_tooltip": null,
      "layout": "IPY_MODEL_0d01881e2cef437782f79104777dad42",
      "placeholder": "​",
      "style": "IPY_MODEL_eb6b1f136f794c0fa8dda743103de8e4",
      "value": ""
     }
    },
    "d278c250dc694114a897f7e2fa61ed6d": {
     "model_module": "@jupyter-widgets/base",
     "model_module_version": "1.2.0",
     "model_name": "LayoutModel",
     "state": {
      "_model_module": "@jupyter-widgets/base",
      "_model_module_version": "1.2.0",
      "_model_name": "LayoutModel",
      "_view_count": null,
      "_view_module": "@jupyter-widgets/base",
      "_view_module_version": "1.2.0",
      "_view_name": "LayoutView",
      "align_content": null,
      "align_items": null,
      "align_self": null,
      "border": null,
      "bottom": null,
      "display": null,
      "flex": null,
      "flex_flow": null,
      "grid_area": null,
      "grid_auto_columns": null,
      "grid_auto_flow": null,
      "grid_auto_rows": null,
      "grid_column": null,
      "grid_gap": null,
      "grid_row": null,
      "grid_template_areas": null,
      "grid_template_columns": null,
      "grid_template_rows": null,
      "height": null,
      "justify_content": null,
      "justify_items": null,
      "left": null,
      "margin": null,
      "max_height": null,
      "max_width": null,
      "min_height": null,
      "min_width": null,
      "object_fit": null,
      "object_position": null,
      "order": null,
      "overflow": null,
      "overflow_x": null,
      "overflow_y": null,
      "padding": null,
      "right": null,
      "top": null,
      "visibility": null,
      "width": null
     }
    },
    "d37a7ba70cdb4335bb0eb1f119c74622": {
     "model_module": "@jupyter-widgets/controls",
     "model_module_version": "1.5.0",
     "model_name": "ProgressStyleModel",
     "state": {
      "_model_module": "@jupyter-widgets/controls",
      "_model_module_version": "1.5.0",
      "_model_name": "ProgressStyleModel",
      "_view_count": null,
      "_view_module": "@jupyter-widgets/base",
      "_view_module_version": "1.2.0",
      "_view_name": "StyleView",
      "bar_color": null,
      "description_width": ""
     }
    },
    "d3d99fe19f9e4e9abfc65a7ef9183eeb": {
     "model_module": "@jupyter-widgets/base",
     "model_module_version": "1.2.0",
     "model_name": "LayoutModel",
     "state": {
      "_model_module": "@jupyter-widgets/base",
      "_model_module_version": "1.2.0",
      "_model_name": "LayoutModel",
      "_view_count": null,
      "_view_module": "@jupyter-widgets/base",
      "_view_module_version": "1.2.0",
      "_view_name": "LayoutView",
      "align_content": null,
      "align_items": null,
      "align_self": null,
      "border": null,
      "bottom": null,
      "display": null,
      "flex": null,
      "flex_flow": null,
      "grid_area": null,
      "grid_auto_columns": null,
      "grid_auto_flow": null,
      "grid_auto_rows": null,
      "grid_column": null,
      "grid_gap": null,
      "grid_row": null,
      "grid_template_areas": null,
      "grid_template_columns": null,
      "grid_template_rows": null,
      "height": null,
      "justify_content": null,
      "justify_items": null,
      "left": null,
      "margin": null,
      "max_height": null,
      "max_width": null,
      "min_height": null,
      "min_width": null,
      "object_fit": null,
      "object_position": null,
      "order": null,
      "overflow": null,
      "overflow_x": null,
      "overflow_y": null,
      "padding": null,
      "right": null,
      "top": null,
      "visibility": null,
      "width": null
     }
    },
    "da61d6356b664b49bfb77b34619d90da": {
     "model_module": "@jupyter-widgets/controls",
     "model_module_version": "1.5.0",
     "model_name": "HTMLModel",
     "state": {
      "_dom_classes": [],
      "_model_module": "@jupyter-widgets/controls",
      "_model_module_version": "1.5.0",
      "_model_name": "HTMLModel",
      "_view_count": null,
      "_view_module": "@jupyter-widgets/controls",
      "_view_module_version": "1.5.0",
      "_view_name": "HTMLView",
      "description": "",
      "description_tooltip": null,
      "layout": "IPY_MODEL_290c44c4518c4743827221e9a4b1ce3a",
      "placeholder": "​",
      "style": "IPY_MODEL_fd40c6d9084f4906baaba1e0f7ad3cb2",
      "value": " 29696/? [00:00&lt;00:00, 868371.88it/s]"
     }
    },
    "dbbf207ec21c4119a883641adfd8b160": {
     "model_module": "@jupyter-widgets/base",
     "model_module_version": "1.2.0",
     "model_name": "LayoutModel",
     "state": {
      "_model_module": "@jupyter-widgets/base",
      "_model_module_version": "1.2.0",
      "_model_name": "LayoutModel",
      "_view_count": null,
      "_view_module": "@jupyter-widgets/base",
      "_view_module_version": "1.2.0",
      "_view_name": "LayoutView",
      "align_content": null,
      "align_items": null,
      "align_self": null,
      "border": null,
      "bottom": null,
      "display": null,
      "flex": null,
      "flex_flow": null,
      "grid_area": null,
      "grid_auto_columns": null,
      "grid_auto_flow": null,
      "grid_auto_rows": null,
      "grid_column": null,
      "grid_gap": null,
      "grid_row": null,
      "grid_template_areas": null,
      "grid_template_columns": null,
      "grid_template_rows": null,
      "height": null,
      "justify_content": null,
      "justify_items": null,
      "left": null,
      "margin": null,
      "max_height": null,
      "max_width": null,
      "min_height": null,
      "min_width": null,
      "object_fit": null,
      "object_position": null,
      "order": null,
      "overflow": null,
      "overflow_x": null,
      "overflow_y": null,
      "padding": null,
      "right": null,
      "top": null,
      "visibility": null,
      "width": null
     }
    },
    "debd41d784cf44299ee70b9949764319": {
     "model_module": "@jupyter-widgets/controls",
     "model_module_version": "1.5.0",
     "model_name": "HTMLModel",
     "state": {
      "_dom_classes": [],
      "_model_module": "@jupyter-widgets/controls",
      "_model_module_version": "1.5.0",
      "_model_name": "HTMLModel",
      "_view_count": null,
      "_view_module": "@jupyter-widgets/controls",
      "_view_module_version": "1.5.0",
      "_view_name": "HTMLView",
      "description": "",
      "description_tooltip": null,
      "layout": "IPY_MODEL_d278c250dc694114a897f7e2fa61ed6d",
      "placeholder": "​",
      "style": "IPY_MODEL_0bb65ffd06d84f01b606ac993877c373",
      "value": ""
     }
    },
    "e0e51e33d4a94b01a148ba1673b64abd": {
     "model_module": "@jupyter-widgets/controls",
     "model_module_version": "1.5.0",
     "model_name": "DescriptionStyleModel",
     "state": {
      "_model_module": "@jupyter-widgets/controls",
      "_model_module_version": "1.5.0",
      "_model_name": "DescriptionStyleModel",
      "_view_count": null,
      "_view_module": "@jupyter-widgets/base",
      "_view_module_version": "1.2.0",
      "_view_name": "StyleView",
      "description_width": ""
     }
    },
    "e4ae8defa98949669041cd506588de7c": {
     "model_module": "@jupyter-widgets/base",
     "model_module_version": "1.2.0",
     "model_name": "LayoutModel",
     "state": {
      "_model_module": "@jupyter-widgets/base",
      "_model_module_version": "1.2.0",
      "_model_name": "LayoutModel",
      "_view_count": null,
      "_view_module": "@jupyter-widgets/base",
      "_view_module_version": "1.2.0",
      "_view_name": "LayoutView",
      "align_content": null,
      "align_items": null,
      "align_self": null,
      "border": null,
      "bottom": null,
      "display": null,
      "flex": null,
      "flex_flow": null,
      "grid_area": null,
      "grid_auto_columns": null,
      "grid_auto_flow": null,
      "grid_auto_rows": null,
      "grid_column": null,
      "grid_gap": null,
      "grid_row": null,
      "grid_template_areas": null,
      "grid_template_columns": null,
      "grid_template_rows": null,
      "height": null,
      "justify_content": null,
      "justify_items": null,
      "left": null,
      "margin": null,
      "max_height": null,
      "max_width": null,
      "min_height": null,
      "min_width": null,
      "object_fit": null,
      "object_position": null,
      "order": null,
      "overflow": null,
      "overflow_x": null,
      "overflow_y": null,
      "padding": null,
      "right": null,
      "top": null,
      "visibility": null,
      "width": null
     }
    },
    "e8209128f1994bd2a00d2243842af842": {
     "model_module": "@jupyter-widgets/controls",
     "model_module_version": "1.5.0",
     "model_name": "DescriptionStyleModel",
     "state": {
      "_model_module": "@jupyter-widgets/controls",
      "_model_module_version": "1.5.0",
      "_model_name": "DescriptionStyleModel",
      "_view_count": null,
      "_view_module": "@jupyter-widgets/base",
      "_view_module_version": "1.2.0",
      "_view_name": "StyleView",
      "description_width": ""
     }
    },
    "eb6b1f136f794c0fa8dda743103de8e4": {
     "model_module": "@jupyter-widgets/controls",
     "model_module_version": "1.5.0",
     "model_name": "DescriptionStyleModel",
     "state": {
      "_model_module": "@jupyter-widgets/controls",
      "_model_module_version": "1.5.0",
      "_model_name": "DescriptionStyleModel",
      "_view_count": null,
      "_view_module": "@jupyter-widgets/base",
      "_view_module_version": "1.2.0",
      "_view_name": "StyleView",
      "description_width": ""
     }
    },
    "fbd2885a02f34b13841e061dab329736": {
     "model_module": "@jupyter-widgets/controls",
     "model_module_version": "1.5.0",
     "model_name": "HTMLModel",
     "state": {
      "_dom_classes": [],
      "_model_module": "@jupyter-widgets/controls",
      "_model_module_version": "1.5.0",
      "_model_name": "HTMLModel",
      "_view_count": null,
      "_view_module": "@jupyter-widgets/controls",
      "_view_module_version": "1.5.0",
      "_view_name": "HTMLView",
      "description": "",
      "description_tooltip": null,
      "layout": "IPY_MODEL_64066dcab25340d2a25dfaec0821dd90",
      "placeholder": "​",
      "style": "IPY_MODEL_bc69fb3966c147d38426e8fbe9dffab4",
      "value": ""
     }
    },
    "fd40c6d9084f4906baaba1e0f7ad3cb2": {
     "model_module": "@jupyter-widgets/controls",
     "model_module_version": "1.5.0",
     "model_name": "DescriptionStyleModel",
     "state": {
      "_model_module": "@jupyter-widgets/controls",
      "_model_module_version": "1.5.0",
      "_model_name": "DescriptionStyleModel",
      "_view_count": null,
      "_view_module": "@jupyter-widgets/base",
      "_view_module_version": "1.2.0",
      "_view_name": "StyleView",
      "description_width": ""
     }
    }
   }
  }
 },
 "nbformat": 4,
 "nbformat_minor": 4
}
